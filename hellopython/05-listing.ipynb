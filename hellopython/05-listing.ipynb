{
 "cells": [
  {
   "cell_type": "code",
   "execution_count": 1,
   "id": "5ba0e850-becd-44e6-81b2-9378986bd245",
   "metadata": {},
   "outputs": [],
   "source": [
    "import pandas as pd"
   ]
  },
  {
   "cell_type": "code",
   "execution_count": 2,
   "id": "f06378bf-aa9c-4cd1-aaef-dedb18117386",
   "metadata": {},
   "outputs": [],
   "source": [
    "df = pd.read_csv(\"listings.csv\")"
   ]
  },
  {
   "cell_type": "code",
   "execution_count": 3,
   "id": "c8326781-1597-44ff-84c2-006f3d8e1035",
   "metadata": {},
   "outputs": [
    {
     "name": "stdout",
     "output_type": "stream",
     "text": [
      "<class 'pandas.core.frame.DataFrame'>\n",
      "RangeIndex: 33329 entries, 0 to 33328\n",
      "Data columns (total 74 columns):\n",
      " #   Column                                        Non-Null Count  Dtype  \n",
      "---  ------                                        --------------  -----  \n",
      " 0   id                                            33329 non-null  int64  \n",
      " 1   listing_url                                   33329 non-null  object \n",
      " 2   scrape_id                                     33329 non-null  int64  \n",
      " 3   last_scraped                                  33329 non-null  object \n",
      " 4   name                                          33327 non-null  object \n",
      " 5   description                                   32231 non-null  object \n",
      " 6   neighborhood_overview                         20108 non-null  object \n",
      " 7   picture_url                                   33329 non-null  object \n",
      " 8   host_id                                       33329 non-null  int64  \n",
      " 9   host_url                                      33329 non-null  object \n",
      " 10  host_name                                     33322 non-null  object \n",
      " 11  host_since                                    33322 non-null  object \n",
      " 12  host_location                                 33246 non-null  object \n",
      " 13  host_about                                    19689 non-null  object \n",
      " 14  host_response_time                            22467 non-null  object \n",
      " 15  host_response_rate                            22467 non-null  object \n",
      " 16  host_acceptance_rate                          23006 non-null  object \n",
      " 17  host_is_superhost                             33322 non-null  object \n",
      " 18  host_thumbnail_url                            33322 non-null  object \n",
      " 19  host_picture_url                              33322 non-null  object \n",
      " 20  host_neighbourhood                            26710 non-null  object \n",
      " 21  host_listings_count                           33322 non-null  float64\n",
      " 22  host_total_listings_count                     33322 non-null  float64\n",
      " 23  host_verifications                            33329 non-null  object \n",
      " 24  host_has_profile_pic                          33322 non-null  object \n",
      " 25  host_identity_verified                        33322 non-null  object \n",
      " 26  neighbourhood                                 20109 non-null  object \n",
      " 27  neighbourhood_cleansed                        33329 non-null  object \n",
      " 28  neighbourhood_group_cleansed                  33329 non-null  object \n",
      " 29  latitude                                      33329 non-null  float64\n",
      " 30  longitude                                     33329 non-null  float64\n",
      " 31  property_type                                 33329 non-null  object \n",
      " 32  room_type                                     33329 non-null  object \n",
      " 33  accommodates                                  33329 non-null  int64  \n",
      " 34  bathrooms                                     0 non-null      float64\n",
      " 35  bathrooms_text                                33267 non-null  object \n",
      " 36  bedrooms                                      29584 non-null  float64\n",
      " 37  beds                                          31519 non-null  float64\n",
      " 38  amenities                                     33329 non-null  object \n",
      " 39  price                                         33329 non-null  object \n",
      " 40  minimum_nights                                33329 non-null  int64  \n",
      " 41  maximum_nights                                33329 non-null  int64  \n",
      " 42  minimum_minimum_nights                        33325 non-null  float64\n",
      " 43  maximum_minimum_nights                        33325 non-null  float64\n",
      " 44  minimum_maximum_nights                        33325 non-null  float64\n",
      " 45  maximum_maximum_nights                        33325 non-null  float64\n",
      " 46  minimum_nights_avg_ntm                        33325 non-null  float64\n",
      " 47  maximum_nights_avg_ntm                        33325 non-null  float64\n",
      " 48  calendar_updated                              0 non-null      float64\n",
      " 49  has_availability                              33329 non-null  object \n",
      " 50  availability_30                               33329 non-null  int64  \n",
      " 51  availability_60                               33329 non-null  int64  \n",
      " 52  availability_90                               33329 non-null  int64  \n",
      " 53  availability_365                              33329 non-null  int64  \n",
      " 54  calendar_last_scraped                         33329 non-null  object \n",
      " 55  number_of_reviews                             33329 non-null  int64  \n",
      " 56  number_of_reviews_ltm                         33329 non-null  int64  \n",
      " 57  number_of_reviews_l30d                        33329 non-null  int64  \n",
      " 58  first_review                                  25319 non-null  object \n",
      " 59  last_review                                   25319 non-null  object \n",
      " 60  review_scores_rating                          25319 non-null  float64\n",
      " 61  review_scores_accuracy                        24991 non-null  float64\n",
      " 62  review_scores_cleanliness                     24992 non-null  float64\n",
      " 63  review_scores_checkin                         24983 non-null  float64\n",
      " 64  review_scores_communication                   24991 non-null  float64\n",
      " 65  review_scores_location                        24980 non-null  float64\n",
      " 66  review_scores_value                           24978 non-null  float64\n",
      " 67  license                                       8404 non-null   object \n",
      " 68  instant_bookable                              33329 non-null  object \n",
      " 69  calculated_host_listings_count                33329 non-null  int64  \n",
      " 70  calculated_host_listings_count_entire_homes   33329 non-null  int64  \n",
      " 71  calculated_host_listings_count_private_rooms  33329 non-null  int64  \n",
      " 72  calculated_host_listings_count_shared_rooms   33329 non-null  int64  \n",
      " 73  reviews_per_month                             25319 non-null  float64\n",
      "dtypes: float64(22), int64(17), object(35)\n",
      "memory usage: 18.8+ MB\n"
     ]
    }
   ],
   "source": [
    "df.info()"
   ]
  },
  {
   "cell_type": "code",
   "execution_count": 4,
   "id": "fdb6c937-1a45-46ef-bef5-40c8e15aef89",
   "metadata": {},
   "outputs": [
    {
     "data": {
      "text/plain": [
       "Hollywood               1580\n",
       "Venice                  1567\n",
       "Long Beach              1304\n",
       "Santa Monica            1099\n",
       "Downtown                 977\n",
       "                        ... \n",
       "Chatsworth Reservoir       1\n",
       "Elizabeth Lake             1\n",
       "Leona Valley               1\n",
       "South Diamond Bar          1\n",
       "Bradbury                   1\n",
       "Name: neighbourhood_cleansed, Length: 266, dtype: int64"
      ]
     },
     "execution_count": 4,
     "metadata": {},
     "output_type": "execute_result"
    }
   ],
   "source": [
    "df.neighbourhood_cleansed.value_counts() "
   ]
  },
  {
   "cell_type": "code",
   "execution_count": 5,
   "id": "b74b328f-dccf-494a-81a5-46184bf7e9c7",
   "metadata": {},
   "outputs": [
    {
     "data": {
      "text/plain": [
       "Echo Park                  352\n",
       "Monterey Park              274\n",
       "Highland Park              164\n",
       "Exposition Park            112\n",
       "Jefferson Park              92\n",
       "View Park-Windsor Hills     91\n",
       "Hancock Park                85\n",
       "Rancho Park                 77\n",
       "University Park             76\n",
       "Hyde Park                   71\n",
       "Glassell Park               66\n",
       "Canoga Park                 62\n",
       "Baldwin Park                45\n",
       "Leimert Park                33\n",
       "Gramercy Park               25\n",
       "Alondra Park                12\n",
       "South Park                   9\n",
       "Elysian Park                 9\n",
       "Griffith Park                9\n",
       "Cypress Park                 9\n",
       "Huntington Park              6\n",
       "Harvard Park                 6\n",
       "Name: neighbourhood_cleansed, dtype: int64"
      ]
     },
     "execution_count": 5,
     "metadata": {},
     "output_type": "execute_result"
    }
   ],
   "source": [
    "df[df.neighbourhood_cleansed.str.contains(\"Park\")].neighbourhood_cleansed.value_counts()"
   ]
  },
  {
   "cell_type": "markdown",
   "id": "b8672c40-ef12-4b62-ba3b-48115cf183d6",
   "metadata": {},
   "source": [
    "Filter listings just to Downtown"
   ]
  },
  {
   "cell_type": "code",
   "execution_count": 6,
   "id": "8c07ca8c-0a9c-46b8-90dd-9610d58a2750",
   "metadata": {},
   "outputs": [],
   "source": [
    "downtown = df[df.neighbourhood_cleansed == \"Downtown\"].copy()"
   ]
  },
  {
   "cell_type": "code",
   "execution_count": 7,
   "id": "1a8af6df-6b77-4b23-9085-97b79d65ef2c",
   "metadata": {},
   "outputs": [
    {
     "data": {
      "text/plain": [
       "977"
      ]
     },
     "execution_count": 7,
     "metadata": {},
     "output_type": "execute_result"
    }
   ],
   "source": [
    "len(downtown)"
   ]
  },
  {
   "cell_type": "markdown",
   "id": "59646076-bcf1-479a-ab17-a84a62e15915",
   "metadata": {},
   "source": [
    "There are 977 listings in Downtown"
   ]
  },
  {
   "cell_type": "code",
   "execution_count": 8,
   "id": "dc1a24ff-e6e8-46cf-8864-3ad5f4488289",
   "metadata": {},
   "outputs": [],
   "source": [
    "#function to clean the host_since column and get only the year\n",
    "def cleanup(x):\n",
    "    y = x.split(\"-\")\n",
    "    z = y[0]\n",
    "    \n",
    "    return z"
   ]
  },
  {
   "cell_type": "code",
   "execution_count": 9,
   "id": "68b58289-a678-45c3-8e8c-5d60af108c25",
   "metadata": {},
   "outputs": [],
   "source": [
    "d = \"2014-06-13\""
   ]
  },
  {
   "cell_type": "code",
   "execution_count": 10,
   "id": "a8b101a3-0257-4ab1-824d-2dec888c6f06",
   "metadata": {},
   "outputs": [
    {
     "data": {
      "text/plain": [
       "'2014'"
      ]
     },
     "execution_count": 10,
     "metadata": {},
     "output_type": "execute_result"
    }
   ],
   "source": [
    "d.split(\"-\")[0]"
   ]
  },
  {
   "cell_type": "code",
   "execution_count": 11,
   "id": "7e6902ac-8bb7-4596-a8e9-441e7bfcce8c",
   "metadata": {},
   "outputs": [
    {
     "data": {
      "text/plain": [
       "'06'"
      ]
     },
     "execution_count": 11,
     "metadata": {},
     "output_type": "execute_result"
    }
   ],
   "source": [
    "d.split(\"-\")[1]"
   ]
  },
  {
   "cell_type": "code",
   "execution_count": 12,
   "id": "43ac5a3c-248d-4721-ba85-e7aadc07962e",
   "metadata": {},
   "outputs": [
    {
     "data": {
      "text/plain": [
       "'13'"
      ]
     },
     "execution_count": 12,
     "metadata": {},
     "output_type": "execute_result"
    }
   ],
   "source": [
    "d.split(\"-\")[2]"
   ]
  },
  {
   "cell_type": "code",
   "execution_count": 13,
   "id": "78188593-3eb4-49a4-8add-ab6d5a52cea0",
   "metadata": {},
   "outputs": [
    {
     "data": {
      "text/plain": [
       "'2018'"
      ]
     },
     "execution_count": 13,
     "metadata": {},
     "output_type": "execute_result"
    }
   ],
   "source": [
    "cleanup(\"2018-01-02\")"
   ]
  },
  {
   "cell_type": "code",
   "execution_count": 14,
   "id": "13bfd2cc-54f5-49ef-a00b-baa0eb953c62",
   "metadata": {},
   "outputs": [
    {
     "data": {
      "text/plain": [
       "'2014'"
      ]
     },
     "execution_count": 14,
     "metadata": {},
     "output_type": "execute_result"
    }
   ],
   "source": [
    "cleanup(d)"
   ]
  },
  {
   "cell_type": "code",
   "execution_count": 15,
   "id": "cb544c58-ba8a-4eaa-ad7b-36ce5e56d687",
   "metadata": {},
   "outputs": [
    {
     "data": {
      "text/plain": [
       "48        $46.00\n",
       "121       $50.00\n",
       "132       $47.00\n",
       "272       $58.00\n",
       "327      $166.00\n",
       "          ...   \n",
       "33248    $157.00\n",
       "33319    $231.00\n",
       "33320    $189.00\n",
       "33325    $155.00\n",
       "33326    $155.00\n",
       "Name: price, Length: 977, dtype: object"
      ]
     },
     "execution_count": 15,
     "metadata": {},
     "output_type": "execute_result"
    }
   ],
   "source": [
    "downtown.price"
   ]
  },
  {
   "cell_type": "code",
   "execution_count": 23,
   "id": "c641269b-dde3-4db0-b504-ddc359192764",
   "metadata": {},
   "outputs": [
    {
     "name": "stdout",
     "output_type": "stream",
     "text": [
      "4\n"
     ]
    }
   ],
   "source": [
    "downtown.price.index\n",
    "\n",
    "print(downtown.price[48][1])"
   ]
  },
  {
   "cell_type": "markdown",
   "id": "ee5b94c9-47e6-474b-8482-299abb57c862",
   "metadata": {},
   "source": [
    "How to make a brand new column"
   ]
  },
  {
   "cell_type": "code",
   "execution_count": 17,
   "id": "4b09b017-9474-4e3f-90d2-d9b144b89d67",
   "metadata": {},
   "outputs": [],
   "source": [
    "downtown[\"host_since_year\"] = downtown.host_since.apply(cleanup)"
   ]
  },
  {
   "cell_type": "code",
   "execution_count": 18,
   "id": "03268370-64ee-4223-9a62-37efac044a15",
   "metadata": {},
   "outputs": [
    {
     "data": {
      "text/plain": [
       "13"
      ]
     },
     "execution_count": 18,
     "metadata": {},
     "output_type": "execute_result"
    }
   ],
   "source": [
    "downtown.host_since_year.nunique()"
   ]
  },
  {
   "cell_type": "markdown",
   "id": "05294749-ca8e-4c4a-be30-fee1d7c508fa",
   "metadata": {},
   "source": [
    "There are 13 different variations of host since year"
   ]
  },
  {
   "cell_type": "code",
   "execution_count": 19,
   "id": "59a40673-9d06-45b0-bb93-5f7fa977a89a",
   "metadata": {},
   "outputs": [
    {
     "data": {
      "text/plain": [
       "'2009'"
      ]
     },
     "execution_count": 19,
     "metadata": {},
     "output_type": "execute_result"
    }
   ],
   "source": [
    "downtown.host_since_year.min()"
   ]
  },
  {
   "cell_type": "code",
   "execution_count": 20,
   "id": "5dc0c44e-1c07-4e95-baab-323499f0b40e",
   "metadata": {},
   "outputs": [
    {
     "data": {
      "text/plain": [
       "'2021'"
      ]
     },
     "execution_count": 20,
     "metadata": {},
     "output_type": "execute_result"
    }
   ],
   "source": [
    "downtown.host_since_year.max()"
   ]
  },
  {
   "cell_type": "markdown",
   "id": "4708bfad-dbcd-4bb8-916c-02e21f325a23",
   "metadata": {},
   "source": [
    "The oldest host has been host since 2009"
   ]
  },
  {
   "cell_type": "code",
   "execution_count": 21,
   "id": "ad5b2e70-bd4f-4fe3-b157-89a755205508",
   "metadata": {},
   "outputs": [
    {
     "data": {
      "text/plain": [
       "2016.0"
      ]
     },
     "execution_count": 21,
     "metadata": {},
     "output_type": "execute_result"
    }
   ],
   "source": [
    "downtown.host_since_year.median()"
   ]
  },
  {
   "cell_type": "markdown",
   "id": "e15d70ed-3dad-414c-8bfc-c25264752c84",
   "metadata": {},
   "source": [
    "median year for downtown hosts is 2016"
   ]
  },
  {
   "cell_type": "code",
   "execution_count": 22,
   "id": "aabff022-9efc-41ee-8842-eb2f5edd4436",
   "metadata": {},
   "outputs": [],
   "source": [
    "downtown.to_csv(\"downtown.csv\", index=False)"
   ]
  },
  {
   "cell_type": "code",
   "execution_count": null,
   "id": "273c9d33-6fb2-49eb-af58-f75dff547d74",
   "metadata": {},
   "outputs": [],
   "source": []
  }
 ],
 "metadata": {
  "kernelspec": {
   "display_name": "Python 3 (ipykernel)",
   "language": "python",
   "name": "python3"
  },
  "language_info": {
   "codemirror_mode": {
    "name": "ipython",
    "version": 3
   },
   "file_extension": ".py",
   "mimetype": "text/x-python",
   "name": "python",
   "nbconvert_exporter": "python",
   "pygments_lexer": "ipython3",
   "version": "3.9.7"
  }
 },
 "nbformat": 4,
 "nbformat_minor": 5
}
