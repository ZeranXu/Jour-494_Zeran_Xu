{
 "cells": [
  {
   "cell_type": "code",
   "execution_count": 1,
   "id": "7e74f33a-3af8-49bb-9f8e-5aa6a4d64ba5",
   "metadata": {},
   "outputs": [
    {
     "name": "stdout",
     "output_type": "stream",
     "text": [
      "Requirement already satisfied: bs4 in c:\\users\\william xu\\anaconda3\\lib\\site-packages (0.0.1)\n",
      "Requirement already satisfied: beautifulsoup4 in c:\\users\\william xu\\anaconda3\\lib\\site-packages (from bs4) (4.10.0)\n",
      "Requirement already satisfied: soupsieve>1.2 in c:\\users\\william xu\\anaconda3\\lib\\site-packages (from beautifulsoup4->bs4) (2.2.1)\n",
      "Note: you may need to restart the kernel to use updated packages.\n"
     ]
    }
   ],
   "source": [
    "%pip install bs4"
   ]
  },
  {
   "cell_type": "code",
   "execution_count": 2,
   "id": "0145f052-5209-4833-a0dc-6df27573917c",
   "metadata": {},
   "outputs": [],
   "source": [
    "import requests\n",
    "from bs4 import BeautifulSoup as soup\n",
    "import csv"
   ]
  },
  {
   "cell_type": "code",
   "execution_count": 3,
   "id": "6952955e-9d97-4f82-9337-6bac7239ef37",
   "metadata": {},
   "outputs": [],
   "source": [
    "url = \"https://www.scrapethissite.com/pages/simple/\" # site we want to scrape "
   ]
  },
  {
   "cell_type": "code",
   "execution_count": 4,
   "id": "14423fbc-a885-4a6b-9ce6-f0a76e10eaa4",
   "metadata": {},
   "outputs": [],
   "source": [
    "file = open(\"countries.csv\", \"w\", encoding='utf-8') # create a file you want to store the information in"
   ]
  },
  {
   "cell_type": "code",
   "execution_count": 5,
   "id": "32c08eb8-d2fe-4df5-a3d0-38710017ec59",
   "metadata": {},
   "outputs": [],
   "source": [
    "headers = [\"name\", \"capital\", \"population\", \"area\"] # create header for the csv file"
   ]
  },
  {
   "cell_type": "code",
   "execution_count": 6,
   "id": "c3d45d84-0f62-465d-891e-2e9d798cf558",
   "metadata": {},
   "outputs": [],
   "source": [
    "writer = csv.DictWriter(file, fieldnames = headers) # create a csv writing function to write in countries csv and add headers"
   ]
  },
  {
   "cell_type": "code",
   "execution_count": 7,
   "id": "212ab342-6507-4c4d-b6c9-1e09f5263827",
   "metadata": {},
   "outputs": [
    {
     "data": {
      "text/plain": [
       "30"
      ]
     },
     "execution_count": 7,
     "metadata": {},
     "output_type": "execute_result"
    }
   ],
   "source": [
    "writer.writeheader() # writting out the header"
   ]
  },
  {
   "cell_type": "code",
   "execution_count": 8,
   "id": "6c219bbd-cdac-4fa6-af86-9040ae82d4d0",
   "metadata": {},
   "outputs": [],
   "source": [
    "# file.close()"
   ]
  },
  {
   "cell_type": "markdown",
   "id": "497970bd-7b83-4bfe-ac89-c118ff4cd32d",
   "metadata": {},
   "source": [
    "request the site"
   ]
  },
  {
   "cell_type": "code",
   "execution_count": 9,
   "id": "1b65a37b-fd3a-43b1-b5bc-f0af9d93ce0d",
   "metadata": {},
   "outputs": [],
   "source": [
    "my_request = requests.get(url) # use the request library to ask information from library"
   ]
  },
  {
   "cell_type": "code",
   "execution_count": 10,
   "id": "1221c29a-040a-45f9-9026-250a6af8d6c0",
   "metadata": {},
   "outputs": [
    {
     "data": {
      "text/plain": [
       "<Response [200]>"
      ]
     },
     "execution_count": 10,
     "metadata": {},
     "output_type": "execute_result"
    }
   ],
   "source": [
    "my_request # 200 means we are good, and site is up and ready"
   ]
  },
  {
   "cell_type": "code",
   "execution_count": 1,
   "id": "5b1fe037-77f2-4d91-8081-9cb53fea9b4e",
   "metadata": {},
   "outputs": [
    {
     "ename": "NameError",
     "evalue": "name 'my_request' is not defined",
     "output_type": "error",
     "traceback": [
      "\u001b[1;31m---------------------------------------------------------------------------\u001b[0m",
      "\u001b[1;31mNameError\u001b[0m                                 Traceback (most recent call last)",
      "\u001b[1;32m~\\AppData\\Local\\Temp/ipykernel_2616/1568226305.py\u001b[0m in \u001b[0;36m<module>\u001b[1;34m\u001b[0m\n\u001b[1;32m----> 1\u001b[1;33m \u001b[0mmy_request\u001b[0m\u001b[1;33m.\u001b[0m\u001b[0mtext\u001b[0m\u001b[1;33m[\u001b[0m\u001b[1;36m0\u001b[0m\u001b[1;33m]\u001b[0m\u001b[1;33m\u001b[0m\u001b[1;33m\u001b[0m\u001b[0m\n\u001b[0m",
      "\u001b[1;31mNameError\u001b[0m: name 'my_request' is not defined"
     ]
    }
   ],
   "source": [
    "my_request.text[0]"
   ]
  },
  {
   "cell_type": "markdown",
   "id": "e8275fb7-5d45-4513-b450-0fa692805b19",
   "metadata": {},
   "source": [
    "prase the site"
   ]
  },
  {
   "cell_type": "code",
   "execution_count": 12,
   "id": "3811265a-d389-4ab6-bbfa-0211612fd097",
   "metadata": {},
   "outputs": [],
   "source": [
    "page = soup(my_request.text,\"html.parser\") # use BS library to start parsing the response made by requests"
   ]
  },
  {
   "cell_type": "markdown",
   "id": "0a10f6d0-dae7-4e6a-a865-5498ae200f37",
   "metadata": {},
   "source": [
    "start scraping"
   ]
  },
  {
   "cell_type": "code",
   "execution_count": 13,
   "id": "1e5aad24-9c9b-43e9-92a4-cd764f8a8573",
   "metadata": {},
   "outputs": [
    {
     "data": {
      "text/plain": [
       "[<meta charset=\"utf-8\"/>,\n",
       " <title>Countries of the World: A Simple Example | Scrape This Site | A public sandbox for learning web scraping</title>,\n",
       " <link href=\"/static/images/scraper-icon.png\" rel=\"icon\" type=\"image/png\"/>,\n",
       " <meta content=\"width=device-width, initial-scale=1.0\" name=\"viewport\"/>,\n",
       " <meta content=\"A single page that lists information about all the countries in the world. Good for those just get started with web scraping.\" name=\"description\"/>,\n",
       " <link crossorigin=\"anonymous\" href=\"https://maxcdn.bootstrapcdn.com/bootstrap/3.3.5/css/bootstrap.min.css\" integrity=\"sha256-MfvZlkHCEqatNoGiOXveE8FIwMzZg4W85qfrfIFBfYc= sha512-dTfge/zgoMYpP7QbHy4gWMEGsbsdZeCXz7irItjcC3sPUFtf0kuFbDz/ixG7ArTxmDjLXDmezHubeNikyKGVyQ==\" rel=\"stylesheet\"/>,\n",
       " <link href=\"https://fonts.googleapis.com/css?family=Lato:400,700\" rel=\"stylesheet\" type=\"text/css\"/>,\n",
       " <link href=\"/static/css/styles.css\" rel=\"stylesheet\" type=\"text/css\"/>,\n",
       " <meta content=\"noindex\" name=\"robots\"/>,\n",
       " <link href=\"https://lipis.github.io/flag-icon-css/css/flag-icon.css\" rel=\"stylesheet\"/>]"
      ]
     },
     "execution_count": 13,
     "metadata": {},
     "output_type": "execute_result"
    }
   ],
   "source": [
    "page.head()"
   ]
  },
  {
   "cell_type": "code",
   "execution_count": 14,
   "id": "ac716422-1f4f-4dc3-84ec-ea65d18c5d01",
   "metadata": {},
   "outputs": [],
   "source": [
    "boxes = page.find_all(\"div\", {\"class\":\"country\"}) # get all the divs in the page with the class name country, returns a list"
   ]
  },
  {
   "cell_type": "code",
   "execution_count": 15,
   "id": "111b9ee6-ba3f-4a36-89ef-53823e51dd02",
   "metadata": {},
   "outputs": [
    {
     "data": {
      "text/plain": [
       "250"
      ]
     },
     "execution_count": 15,
     "metadata": {},
     "output_type": "execute_result"
    }
   ],
   "source": [
    "len(boxes)"
   ]
  },
  {
   "cell_type": "markdown",
   "id": "13be988f-6e87-4e00-8810-3da6b5f6869a",
   "metadata": {},
   "source": [
    "loop through boxes to scrape every box"
   ]
  },
  {
   "cell_type": "code",
   "execution_count": 16,
   "id": "a025c5fe-9116-4b3e-a05a-f8a316f9c5b0",
   "metadata": {},
   "outputs": [
    {
     "name": "stdout",
     "output_type": "stream",
     "text": [
      "Getting information for Andorra\n",
      "Writing Andorra to file \n",
      "Getting information for United Arab Emirates\n",
      "Writing United Arab Emirates to file \n",
      "Getting information for Afghanistan\n",
      "Writing Afghanistan to file \n",
      "Getting information for Antigua and Barbuda\n",
      "Writing Antigua and Barbuda to file \n",
      "Getting information for Anguilla\n",
      "Writing Anguilla to file \n",
      "Getting information for Albania\n",
      "Writing Albania to file \n",
      "Getting information for Armenia\n",
      "Writing Armenia to file \n",
      "Getting information for Angola\n",
      "Writing Angola to file \n",
      "Getting information for Antarctica\n",
      "Writing Antarctica to file \n",
      "Getting information for Argentina\n",
      "Writing Argentina to file \n",
      "Getting information for American Samoa\n",
      "Writing American Samoa to file \n",
      "Getting information for Austria\n",
      "Writing Austria to file \n",
      "Getting information for Australia\n",
      "Writing Australia to file \n",
      "Getting information for Aruba\n",
      "Writing Aruba to file \n",
      "Getting information for Åland\n",
      "Writing Åland to file \n",
      "Getting information for Azerbaijan\n",
      "Writing Azerbaijan to file \n",
      "Getting information for Bosnia and Herzegovina\n",
      "Writing Bosnia and Herzegovina to file \n",
      "Getting information for Barbados\n",
      "Writing Barbados to file \n",
      "Getting information for Bangladesh\n",
      "Writing Bangladesh to file \n",
      "Getting information for Belgium\n",
      "Writing Belgium to file \n",
      "Getting information for Burkina Faso\n",
      "Writing Burkina Faso to file \n",
      "Getting information for Bulgaria\n",
      "Writing Bulgaria to file \n",
      "Getting information for Bahrain\n",
      "Writing Bahrain to file \n",
      "Getting information for Burundi\n",
      "Writing Burundi to file \n",
      "Getting information for Benin\n",
      "Writing Benin to file \n",
      "Getting information for Saint Barthélemy\n",
      "Writing Saint Barthélemy to file \n",
      "Getting information for Bermuda\n",
      "Writing Bermuda to file \n",
      "Getting information for Brunei\n",
      "Writing Brunei to file \n",
      "Getting information for Bolivia\n",
      "Writing Bolivia to file \n",
      "Getting information for Bonaire\n",
      "Writing Bonaire to file \n",
      "Getting information for Brazil\n",
      "Writing Brazil to file \n",
      "Getting information for Bahamas\n",
      "Writing Bahamas to file \n",
      "Getting information for Bhutan\n",
      "Writing Bhutan to file \n",
      "Getting information for Bouvet Island\n",
      "Writing Bouvet Island to file \n",
      "Getting information for Botswana\n",
      "Writing Botswana to file \n",
      "Getting information for Belarus\n",
      "Writing Belarus to file \n",
      "Getting information for Belize\n",
      "Writing Belize to file \n",
      "Getting information for Canada\n",
      "Writing Canada to file \n",
      "Getting information for Cocos [Keeling] Islands\n",
      "Writing Cocos [Keeling] Islands to file \n",
      "Getting information for Democratic Republic of the Congo\n",
      "Writing Democratic Republic of the Congo to file \n",
      "Getting information for Central African Republic\n",
      "Writing Central African Republic to file \n",
      "Getting information for Republic of the Congo\n",
      "Writing Republic of the Congo to file \n",
      "Getting information for Switzerland\n",
      "Writing Switzerland to file \n",
      "Getting information for Ivory Coast\n",
      "Writing Ivory Coast to file \n",
      "Getting information for Cook Islands\n",
      "Writing Cook Islands to file \n",
      "Getting information for Chile\n",
      "Writing Chile to file \n",
      "Getting information for Cameroon\n",
      "Writing Cameroon to file \n",
      "Getting information for China\n",
      "Writing China to file \n",
      "Getting information for Colombia\n",
      "Writing Colombia to file \n",
      "Getting information for Costa Rica\n",
      "Writing Costa Rica to file \n",
      "Getting information for Cuba\n",
      "Writing Cuba to file \n",
      "Getting information for Cape Verde\n",
      "Writing Cape Verde to file \n",
      "Getting information for Curacao\n",
      "Writing Curacao to file \n",
      "Getting information for Christmas Island\n",
      "Writing Christmas Island to file \n",
      "Getting information for Cyprus\n",
      "Writing Cyprus to file \n",
      "Getting information for Czech Republic\n",
      "Writing Czech Republic to file \n",
      "Getting information for Germany\n",
      "Writing Germany to file \n",
      "Getting information for Djibouti\n",
      "Writing Djibouti to file \n",
      "Getting information for Denmark\n",
      "Writing Denmark to file \n",
      "Getting information for Dominica\n",
      "Writing Dominica to file \n",
      "Getting information for Dominican Republic\n",
      "Writing Dominican Republic to file \n",
      "Getting information for Algeria\n",
      "Writing Algeria to file \n",
      "Getting information for Ecuador\n",
      "Writing Ecuador to file \n",
      "Getting information for Estonia\n",
      "Writing Estonia to file \n",
      "Getting information for Egypt\n",
      "Writing Egypt to file \n",
      "Getting information for Western Sahara\n",
      "Writing Western Sahara to file \n",
      "Getting information for Eritrea\n",
      "Writing Eritrea to file \n",
      "Getting information for Spain\n",
      "Writing Spain to file \n",
      "Getting information for Ethiopia\n",
      "Writing Ethiopia to file \n",
      "Getting information for Finland\n",
      "Writing Finland to file \n",
      "Getting information for Fiji\n",
      "Writing Fiji to file \n",
      "Getting information for Falkland Islands\n",
      "Writing Falkland Islands to file \n",
      "Getting information for Micronesia\n",
      "Writing Micronesia to file \n",
      "Getting information for Faroe Islands\n",
      "Writing Faroe Islands to file \n",
      "Getting information for France\n",
      "Writing France to file \n",
      "Getting information for Gabon\n",
      "Writing Gabon to file \n",
      "Getting information for United Kingdom\n",
      "Writing United Kingdom to file \n",
      "Getting information for Grenada\n",
      "Writing Grenada to file \n",
      "Getting information for Georgia\n",
      "Writing Georgia to file \n",
      "Getting information for French Guiana\n",
      "Writing French Guiana to file \n",
      "Getting information for Guernsey\n",
      "Writing Guernsey to file \n",
      "Getting information for Ghana\n",
      "Writing Ghana to file \n",
      "Getting information for Gibraltar\n",
      "Writing Gibraltar to file \n",
      "Getting information for Greenland\n",
      "Writing Greenland to file \n",
      "Getting information for Gambia\n",
      "Writing Gambia to file \n",
      "Getting information for Guinea\n",
      "Writing Guinea to file \n",
      "Getting information for Guadeloupe\n",
      "Writing Guadeloupe to file \n",
      "Getting information for Equatorial Guinea\n",
      "Writing Equatorial Guinea to file \n",
      "Getting information for Greece\n",
      "Writing Greece to file \n",
      "Getting information for South Georgia and the South Sandwich Islands\n",
      "Writing South Georgia and the South Sandwich Islands to file \n",
      "Getting information for Guatemala\n",
      "Writing Guatemala to file \n",
      "Getting information for Guam\n",
      "Writing Guam to file \n",
      "Getting information for Guinea-Bissau\n",
      "Writing Guinea-Bissau to file \n",
      "Getting information for Guyana\n",
      "Writing Guyana to file \n",
      "Getting information for Hong Kong\n",
      "Writing Hong Kong to file \n",
      "Getting information for Heard Island and McDonald Islands\n",
      "Writing Heard Island and McDonald Islands to file \n",
      "Getting information for Honduras\n",
      "Writing Honduras to file \n",
      "Getting information for Croatia\n",
      "Writing Croatia to file \n",
      "Getting information for Haiti\n",
      "Writing Haiti to file \n",
      "Getting information for Hungary\n",
      "Writing Hungary to file \n",
      "Getting information for Indonesia\n",
      "Writing Indonesia to file \n",
      "Getting information for Ireland\n",
      "Writing Ireland to file \n",
      "Getting information for Israel\n",
      "Writing Israel to file \n",
      "Getting information for Isle of Man\n",
      "Writing Isle of Man to file \n",
      "Getting information for India\n",
      "Writing India to file \n",
      "Getting information for British Indian Ocean Territory\n",
      "Writing British Indian Ocean Territory to file \n",
      "Getting information for Iraq\n",
      "Writing Iraq to file \n",
      "Getting information for Iran\n",
      "Writing Iran to file \n",
      "Getting information for Iceland\n",
      "Writing Iceland to file \n",
      "Getting information for Italy\n",
      "Writing Italy to file \n",
      "Getting information for Jersey\n",
      "Writing Jersey to file \n",
      "Getting information for Jamaica\n",
      "Writing Jamaica to file \n",
      "Getting information for Jordan\n",
      "Writing Jordan to file \n",
      "Getting information for Japan\n",
      "Writing Japan to file \n",
      "Getting information for Kenya\n",
      "Writing Kenya to file \n",
      "Getting information for Kyrgyzstan\n",
      "Writing Kyrgyzstan to file \n",
      "Getting information for Cambodia\n",
      "Writing Cambodia to file \n",
      "Getting information for Kiribati\n",
      "Writing Kiribati to file \n",
      "Getting information for Comoros\n",
      "Writing Comoros to file \n",
      "Getting information for Saint Kitts and Nevis\n",
      "Writing Saint Kitts and Nevis to file \n",
      "Getting information for North Korea\n",
      "Writing North Korea to file \n",
      "Getting information for South Korea\n",
      "Writing South Korea to file \n",
      "Getting information for Kuwait\n",
      "Writing Kuwait to file \n",
      "Getting information for Cayman Islands\n",
      "Writing Cayman Islands to file \n",
      "Getting information for Kazakhstan\n",
      "Writing Kazakhstan to file \n",
      "Getting information for Laos\n",
      "Writing Laos to file \n",
      "Getting information for Lebanon\n",
      "Writing Lebanon to file \n",
      "Getting information for Saint Lucia\n",
      "Writing Saint Lucia to file \n",
      "Getting information for Liechtenstein\n",
      "Writing Liechtenstein to file \n",
      "Getting information for Sri Lanka\n",
      "Writing Sri Lanka to file \n",
      "Getting information for Liberia\n",
      "Writing Liberia to file \n",
      "Getting information for Lesotho\n",
      "Writing Lesotho to file \n",
      "Getting information for Lithuania\n",
      "Writing Lithuania to file \n",
      "Getting information for Luxembourg\n",
      "Writing Luxembourg to file \n",
      "Getting information for Latvia\n",
      "Writing Latvia to file \n",
      "Getting information for Libya\n",
      "Writing Libya to file \n",
      "Getting information for Morocco\n",
      "Writing Morocco to file \n",
      "Getting information for Monaco\n",
      "Writing Monaco to file \n",
      "Getting information for Moldova\n",
      "Writing Moldova to file \n",
      "Getting information for Montenegro\n",
      "Writing Montenegro to file \n",
      "Getting information for Saint Martin\n",
      "Writing Saint Martin to file \n",
      "Getting information for Madagascar\n",
      "Writing Madagascar to file \n",
      "Getting information for Marshall Islands\n",
      "Writing Marshall Islands to file \n",
      "Getting information for Macedonia\n",
      "Writing Macedonia to file \n",
      "Getting information for Mali\n",
      "Writing Mali to file \n",
      "Getting information for Myanmar [Burma]\n",
      "Writing Myanmar [Burma] to file \n",
      "Getting information for Mongolia\n",
      "Writing Mongolia to file \n",
      "Getting information for Macao\n",
      "Writing Macao to file \n",
      "Getting information for Northern Mariana Islands\n",
      "Writing Northern Mariana Islands to file \n",
      "Getting information for Martinique\n",
      "Writing Martinique to file \n",
      "Getting information for Mauritania\n",
      "Writing Mauritania to file \n",
      "Getting information for Montserrat\n",
      "Writing Montserrat to file \n",
      "Getting information for Malta\n",
      "Writing Malta to file \n",
      "Getting information for Mauritius\n",
      "Writing Mauritius to file \n",
      "Getting information for Maldives\n",
      "Writing Maldives to file \n",
      "Getting information for Malawi\n",
      "Writing Malawi to file \n",
      "Getting information for Mexico\n",
      "Writing Mexico to file \n",
      "Getting information for Malaysia\n",
      "Writing Malaysia to file \n",
      "Getting information for Mozambique\n",
      "Writing Mozambique to file \n",
      "Getting information for Namibia\n",
      "Writing Namibia to file \n",
      "Getting information for New Caledonia\n",
      "Writing New Caledonia to file \n",
      "Getting information for Niger\n",
      "Writing Niger to file \n",
      "Getting information for Norfolk Island\n",
      "Writing Norfolk Island to file \n",
      "Getting information for Nigeria\n",
      "Writing Nigeria to file \n",
      "Getting information for Nicaragua\n",
      "Writing Nicaragua to file \n",
      "Getting information for Netherlands\n",
      "Writing Netherlands to file \n",
      "Getting information for Norway\n",
      "Writing Norway to file \n",
      "Getting information for Nepal\n",
      "Writing Nepal to file \n",
      "Getting information for Nauru\n",
      "Writing Nauru to file \n",
      "Getting information for Niue\n",
      "Writing Niue to file \n",
      "Getting information for New Zealand\n",
      "Writing New Zealand to file \n",
      "Getting information for Oman\n",
      "Writing Oman to file \n",
      "Getting information for Panama\n",
      "Writing Panama to file \n",
      "Getting information for Peru\n",
      "Writing Peru to file \n",
      "Getting information for French Polynesia\n",
      "Writing French Polynesia to file \n",
      "Getting information for Papua New Guinea\n",
      "Writing Papua New Guinea to file \n",
      "Getting information for Philippines\n",
      "Writing Philippines to file \n",
      "Getting information for Pakistan\n",
      "Writing Pakistan to file \n",
      "Getting information for Poland\n",
      "Writing Poland to file \n",
      "Getting information for Saint Pierre and Miquelon\n",
      "Writing Saint Pierre and Miquelon to file \n",
      "Getting information for Pitcairn Islands\n",
      "Writing Pitcairn Islands to file \n",
      "Getting information for Puerto Rico\n",
      "Writing Puerto Rico to file \n",
      "Getting information for Palestine\n",
      "Writing Palestine to file \n",
      "Getting information for Portugal\n",
      "Writing Portugal to file \n",
      "Getting information for Palau\n",
      "Writing Palau to file \n",
      "Getting information for Paraguay\n",
      "Writing Paraguay to file \n",
      "Getting information for Qatar\n",
      "Writing Qatar to file \n",
      "Getting information for Réunion\n",
      "Writing Réunion to file \n",
      "Getting information for Romania\n",
      "Writing Romania to file \n",
      "Getting information for Serbia\n",
      "Writing Serbia to file \n",
      "Getting information for Russia\n",
      "Writing Russia to file \n",
      "Getting information for Rwanda\n",
      "Writing Rwanda to file \n",
      "Getting information for Saudi Arabia\n",
      "Writing Saudi Arabia to file \n",
      "Getting information for Solomon Islands\n",
      "Writing Solomon Islands to file \n",
      "Getting information for Seychelles\n",
      "Writing Seychelles to file \n",
      "Getting information for Sudan\n",
      "Writing Sudan to file \n",
      "Getting information for Sweden\n",
      "Writing Sweden to file \n",
      "Getting information for Singapore\n",
      "Writing Singapore to file \n",
      "Getting information for Saint Helena\n",
      "Writing Saint Helena to file \n",
      "Getting information for Slovenia\n",
      "Writing Slovenia to file \n",
      "Getting information for Svalbard and Jan Mayen\n",
      "Writing Svalbard and Jan Mayen to file \n",
      "Getting information for Slovakia\n",
      "Writing Slovakia to file \n",
      "Getting information for Sierra Leone\n",
      "Writing Sierra Leone to file \n",
      "Getting information for San Marino\n",
      "Writing San Marino to file \n",
      "Getting information for Senegal\n",
      "Writing Senegal to file \n",
      "Getting information for Somalia\n",
      "Writing Somalia to file \n",
      "Getting information for Suriname\n",
      "Writing Suriname to file \n",
      "Getting information for South Sudan\n",
      "Writing South Sudan to file \n",
      "Getting information for São Tomé and Príncipe\n",
      "Writing São Tomé and Príncipe to file \n",
      "Getting information for El Salvador\n",
      "Writing El Salvador to file \n",
      "Getting information for Sint Maarten\n",
      "Writing Sint Maarten to file \n",
      "Getting information for Syria\n",
      "Writing Syria to file \n",
      "Getting information for Swaziland\n",
      "Writing Swaziland to file \n",
      "Getting information for Turks and Caicos Islands\n",
      "Writing Turks and Caicos Islands to file \n",
      "Getting information for Chad\n",
      "Writing Chad to file \n",
      "Getting information for French Southern Territories\n",
      "Writing French Southern Territories to file \n",
      "Getting information for Togo\n",
      "Writing Togo to file \n",
      "Getting information for Thailand\n",
      "Writing Thailand to file \n",
      "Getting information for Tajikistan\n",
      "Writing Tajikistan to file \n",
      "Getting information for Tokelau\n",
      "Writing Tokelau to file \n",
      "Getting information for East Timor\n",
      "Writing East Timor to file \n",
      "Getting information for Turkmenistan\n",
      "Writing Turkmenistan to file \n",
      "Getting information for Tunisia\n",
      "Writing Tunisia to file \n",
      "Getting information for Tonga\n",
      "Writing Tonga to file \n",
      "Getting information for Turkey\n",
      "Writing Turkey to file \n",
      "Getting information for Trinidad and Tobago\n",
      "Writing Trinidad and Tobago to file \n",
      "Getting information for Tuvalu\n",
      "Writing Tuvalu to file \n",
      "Getting information for Taiwan\n",
      "Writing Taiwan to file \n",
      "Getting information for Tanzania\n",
      "Writing Tanzania to file \n",
      "Getting information for Ukraine\n",
      "Writing Ukraine to file \n",
      "Getting information for Uganda\n",
      "Writing Uganda to file \n",
      "Getting information for U.S. Minor Outlying Islands\n",
      "Writing U.S. Minor Outlying Islands to file \n",
      "Getting information for United States\n",
      "Writing United States to file \n",
      "Getting information for Uruguay\n",
      "Writing Uruguay to file \n",
      "Getting information for Uzbekistan\n",
      "Writing Uzbekistan to file \n",
      "Getting information for Vatican City\n",
      "Writing Vatican City to file \n",
      "Getting information for Saint Vincent and the Grenadines\n",
      "Writing Saint Vincent and the Grenadines to file \n",
      "Getting information for Venezuela\n",
      "Writing Venezuela to file \n",
      "Getting information for British Virgin Islands\n",
      "Writing British Virgin Islands to file \n",
      "Getting information for U.S. Virgin Islands\n",
      "Writing U.S. Virgin Islands to file \n",
      "Getting information for Vietnam\n",
      "Writing Vietnam to file \n",
      "Getting information for Vanuatu\n",
      "Writing Vanuatu to file \n",
      "Getting information for Wallis and Futuna\n",
      "Writing Wallis and Futuna to file \n",
      "Getting information for Samoa\n",
      "Writing Samoa to file \n",
      "Getting information for Kosovo\n",
      "Writing Kosovo to file \n",
      "Getting information for Yemen\n",
      "Writing Yemen to file \n",
      "Getting information for Mayotte\n",
      "Writing Mayotte to file \n",
      "Getting information for South Africa\n",
      "Writing South Africa to file \n",
      "Getting information for Zambia\n",
      "Writing Zambia to file \n",
      "Getting information for Zimbabwe\n",
      "Writing Zimbabwe to file \n"
     ]
    }
   ],
   "source": [
    "for b in boxes:\n",
    "    \n",
    "    # get all the content \n",
    "    name = b.h3.text.strip()\n",
    "    capital = b.find(\"span\",{\"class\":\"country-capital\"}).text\n",
    "    pop = b.find(\"span\",{\"class\":\"country-population\"}).text\n",
    "    area = b.find(\"span\",{\"class\":\"country-area\"}).text\n",
    "    \n",
    "    print(f\"Getting information for {name}\")\n",
    "    \n",
    "    # write to a row\n",
    "    writer.writerow({\n",
    "    \"name\":name,\n",
    "    \"capital\":capital,\n",
    "    \"population\":pop,\n",
    "    \"area\":area\n",
    "    })\n",
    "    \n",
    "    print(f\"Writing {name} to file \")\n",
    "    "
   ]
  },
  {
   "cell_type": "code",
   "execution_count": 17,
   "id": "d4374613-25ef-4157-8859-f90af12740b0",
   "metadata": {},
   "outputs": [],
   "source": [
    "file.close()"
   ]
  },
  {
   "cell_type": "code",
   "execution_count": null,
   "id": "484fb29f-3eb8-40d0-b949-0a328e7f8fec",
   "metadata": {},
   "outputs": [],
   "source": []
  },
  {
   "cell_type": "code",
   "execution_count": null,
   "id": "969e4347-996c-4fa6-a05d-c1f08b2de565",
   "metadata": {},
   "outputs": [],
   "source": []
  },
  {
   "cell_type": "code",
   "execution_count": null,
   "id": "e520001e-1b35-4c1c-ae0b-c6fcca4d7272",
   "metadata": {},
   "outputs": [],
   "source": []
  },
  {
   "cell_type": "code",
   "execution_count": null,
   "id": "27be49a1-c49b-4dcf-a51a-b9490f430990",
   "metadata": {},
   "outputs": [],
   "source": []
  },
  {
   "cell_type": "code",
   "execution_count": 18,
   "id": "cea690cb-fb44-46ba-8038-c8eb8acf2a59",
   "metadata": {},
   "outputs": [
    {
     "data": {
      "text/plain": [
       "<div class=\"col-md-4 country\">\n",
       "<h3 class=\"country-name\">\n",
       "<i class=\"flag-icon flag-icon-gd\"></i>\n",
       "                            Grenada\n",
       "                        </h3>\n",
       "<div class=\"country-info\">\n",
       "<strong>Capital:</strong> <span class=\"country-capital\">St. George's</span><br/>\n",
       "<strong>Population:</strong> <span class=\"country-population\">107818</span><br/>\n",
       "<strong>Area (km<sup>2</sup>):</strong> <span class=\"country-area\">344.0</span><br/>\n",
       "</div>\n",
       "</div>"
      ]
     },
     "execution_count": 18,
     "metadata": {},
     "output_type": "execute_result"
    }
   ],
   "source": [
    "boxes[77]"
   ]
  },
  {
   "cell_type": "markdown",
   "id": "e1fa9503-23a6-4774-a877-861a6bd1888a",
   "metadata": {
    "tags": []
   },
   "source": [
    "test = boxes[0]"
   ]
  },
  {
   "cell_type": "markdown",
   "id": "3ed4a57c-88b5-4eb5-a450-e0e96fda5690",
   "metadata": {
    "jupyter": {
     "outputs_hidden": true
    },
    "tags": []
   },
   "source": [
    "test"
   ]
  },
  {
   "cell_type": "markdown",
   "id": "b248d45e-264e-4370-9064-9923d45bdb00",
   "metadata": {
    "tags": []
   },
   "source": [
    "name = test.h3.text.strip() # chooses the h3 tag, extracts text and cleans up the spaces"
   ]
  },
  {
   "cell_type": "markdown",
   "id": "bf93fe08-3e7a-4fc0-b871-a7a720b630fc",
   "metadata": {
    "tags": []
   },
   "source": [
    "capital = test.find(\"span\",{\"class\":\"country-capital\"}).text # get the span tag with country-capital class and extract text"
   ]
  },
  {
   "cell_type": "markdown",
   "id": "554d878a-e835-4643-85fd-eb196b9d6545",
   "metadata": {
    "tags": []
   },
   "source": [
    "pop = test.find(\"span\",{\"class\":\"country-population\"}).text # country-population"
   ]
  },
  {
   "cell_type": "markdown",
   "id": "6f754659-9f9f-422b-a38c-52faf4b305f8",
   "metadata": {
    "tags": []
   },
   "source": [
    "area = test.find(\"span\",{\"class\":\"country-area\"}).text #country-area"
   ]
  },
  {
   "cell_type": "markdown",
   "id": "cbe7ff1d-5c75-4bf8-89cc-75513647378d",
   "metadata": {
    "tags": []
   },
   "source": [
    "# write it out into csv, key is the name of headers, value is the variables with stored information"
   ]
  },
  {
   "cell_type": "markdown",
   "id": "5527c1bd-54b3-4382-b1ea-11710a5db395",
   "metadata": {
    "tags": []
   },
   "source": [
    "writer.writerow({\n",
    "    \"name\":name,\n",
    "    \"capital\":capital,\n",
    "    \"population\":pop,\n",
    "    \"area\":area\n",
    "})"
   ]
  },
  {
   "cell_type": "markdown",
   "id": "dbd448e7-47ab-49f8-a5f7-8b21019c3a7b",
   "metadata": {
    "tags": []
   },
   "source": [
    "file.close()"
   ]
  },
  {
   "cell_type": "code",
   "execution_count": null,
   "id": "39706ea0-81df-471d-9cf3-850ffc09f6ad",
   "metadata": {},
   "outputs": [],
   "source": []
  }
 ],
 "metadata": {
  "kernelspec": {
   "display_name": "Python 3 (ipykernel)",
   "language": "python",
   "name": "python3"
  },
  "language_info": {
   "codemirror_mode": {
    "name": "ipython",
    "version": 3
   },
   "file_extension": ".py",
   "mimetype": "text/x-python",
   "name": "python",
   "nbconvert_exporter": "python",
   "pygments_lexer": "ipython3",
   "version": "3.9.7"
  }
 },
 "nbformat": 4,
 "nbformat_minor": 5
}
