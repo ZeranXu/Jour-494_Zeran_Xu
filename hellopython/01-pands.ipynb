{
 "cells": [
  {
   "cell_type": "code",
   "execution_count": 3,
   "id": "8bccd575-e61e-47c9-ba0e-aa8bdcef0671",
   "metadata": {
    "tags": []
   },
   "outputs": [
    {
     "name": "stdout",
     "output_type": "stream",
     "text": [
      "Requirement already satisfied: pandas in c:\\users\\william xu\\anaconda3\\lib\\site-packages (1.3.4)\n",
      "Requirement already satisfied: python-dateutil>=2.7.3 in c:\\users\\william xu\\anaconda3\\lib\\site-packages (from pandas) (2.8.2)\n",
      "Requirement already satisfied: pytz>=2017.3 in c:\\users\\william xu\\anaconda3\\lib\\site-packages (from pandas) (2021.3)\n",
      "Requirement already satisfied: numpy>=1.17.3 in c:\\users\\william xu\\anaconda3\\lib\\site-packages (from pandas) (1.20.3)\n",
      "Requirement already satisfied: six>=1.5 in c:\\users\\william xu\\anaconda3\\lib\\site-packages (from python-dateutil>=2.7.3->pandas) (1.16.0)\n",
      "Note: you may need to restart the kernel to use updated packages.\n"
     ]
    }
   ],
   "source": [
    "%pip install pandas"
   ]
  },
  {
   "cell_type": "code",
   "execution_count": 2,
   "id": "057bd512-98be-4b85-abe6-69e6169211b6",
   "metadata": {},
   "outputs": [],
   "source": [
    "import pandas as pd #importing the pandas library"
   ]
  },
  {
   "cell_type": "code",
   "execution_count": 4,
   "id": "86ff397a-97ad-420b-9197-a4c24a2ef903",
   "metadata": {},
   "outputs": [],
   "source": [
    "numbers = [2,6,9,10,23]"
   ]
  },
  {
   "cell_type": "code",
   "execution_count": 5,
   "id": "7ffac4c2-465a-417a-86d9-4587aa9af18e",
   "metadata": {},
   "outputs": [],
   "source": [
    "series = pd.Series(numbers)"
   ]
  },
  {
   "cell_type": "code",
   "execution_count": 7,
   "id": "073e6fb1-29fc-4dcf-9fbe-953df93ab810",
   "metadata": {},
   "outputs": [
    {
     "data": {
      "text/plain": [
       "0     2\n",
       "1     6\n",
       "2     9\n",
       "3    10\n",
       "4    23\n",
       "dtype: int64"
      ]
     },
     "execution_count": 7,
     "metadata": {},
     "output_type": "execute_result"
    }
   ],
   "source": [
    "series"
   ]
  },
  {
   "cell_type": "markdown",
   "id": "bd4ffa95-118a-463f-aa1d-a365bdaca6b4",
   "metadata": {},
   "source": [
    "Get the sum of the series"
   ]
  },
  {
   "cell_type": "code",
   "execution_count": 9,
   "id": "af81b0e1-2858-47cf-9503-06c396cb5975",
   "metadata": {},
   "outputs": [
    {
     "data": {
      "text/plain": [
       "50"
      ]
     },
     "execution_count": 9,
     "metadata": {},
     "output_type": "execute_result"
    }
   ],
   "source": [
    "series.sum() #get the sum of the series"
   ]
  },
  {
   "cell_type": "code",
   "execution_count": 11,
   "id": "8df8f55f-bc34-4083-982b-b3366954053a",
   "metadata": {},
   "outputs": [
    {
     "data": {
      "text/plain": [
       "23"
      ]
     },
     "execution_count": 11,
     "metadata": {},
     "output_type": "execute_result"
    }
   ],
   "source": [
    "series.max() #get the max of the series"
   ]
  },
  {
   "cell_type": "code",
   "execution_count": 13,
   "id": "90102606-5f90-433e-8e80-8fdd2ee64424",
   "metadata": {},
   "outputs": [
    {
     "data": {
      "text/plain": [
       "2"
      ]
     },
     "execution_count": 13,
     "metadata": {},
     "output_type": "execute_result"
    }
   ],
   "source": [
    "series.min() #minimum value"
   ]
  },
  {
   "cell_type": "code",
   "execution_count": 15,
   "id": "6ae96e84-da29-438e-aea2-bf975a8cc0f4",
   "metadata": {},
   "outputs": [
    {
     "data": {
      "text/plain": [
       "10.0"
      ]
     },
     "execution_count": 15,
     "metadata": {},
     "output_type": "execute_result"
    }
   ],
   "source": [
    "series.mean() #get the mean"
   ]
  },
  {
   "cell_type": "code",
   "execution_count": 17,
   "id": "fd6408be-61c6-4f19-a14a-9e6cba1948b5",
   "metadata": {},
   "outputs": [
    {
     "data": {
      "text/plain": [
       "9.0"
      ]
     },
     "execution_count": 17,
     "metadata": {},
     "output_type": "execute_result"
    }
   ],
   "source": [
    "series.median() # gen the mean"
   ]
  },
  {
   "cell_type": "code",
   "execution_count": 19,
   "id": "64a80064-9d1d-4dca-8052-4afd98efc33b",
   "metadata": {},
   "outputs": [
    {
     "data": {
      "text/plain": [
       "count     5.000000\n",
       "mean     10.000000\n",
       "std       7.905694\n",
       "min       2.000000\n",
       "25%       6.000000\n",
       "50%       9.000000\n",
       "75%      10.000000\n",
       "max      23.000000\n",
       "dtype: float64"
      ]
     },
     "execution_count": 19,
     "metadata": {},
     "output_type": "execute_result"
    }
   ],
   "source": [
    "series.describe()"
   ]
  },
  {
   "cell_type": "code",
   "execution_count": null,
   "id": "8847c0fa-c9c8-4ba2-aa8e-5ac27a1f42f2",
   "metadata": {},
   "outputs": [],
   "source": []
  }
 ],
 "metadata": {
  "kernelspec": {
   "display_name": "Python 3 (ipykernel)",
   "language": "python",
   "name": "python3"
  },
  "language_info": {
   "codemirror_mode": {
    "name": "ipython",
    "version": 3
   },
   "file_extension": ".py",
   "mimetype": "text/x-python",
   "name": "python",
   "nbconvert_exporter": "python",
   "pygments_lexer": "ipython3",
   "version": "3.9.7"
  }
 },
 "nbformat": 4,
 "nbformat_minor": 5
}
