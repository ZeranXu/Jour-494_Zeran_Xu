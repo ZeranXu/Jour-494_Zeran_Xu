{
 "cells": [
  {
   "cell_type": "code",
   "execution_count": 1,
   "id": "82ecf40f-e6a0-4087-bb53-7f8a28b2f793",
   "metadata": {},
   "outputs": [],
   "source": [
    "import requests,csv, time\n",
    "from bs4 import BeautifulSoup as soup"
   ]
  },
  {
   "cell_type": "code",
   "execution_count": 2,
   "id": "ab6ea083-f2be-44c6-a13e-14982ae0d5d8",
   "metadata": {},
   "outputs": [],
   "source": [
    "url = \"http://quotes.toscrape.com/\""
   ]
  },
  {
   "cell_type": "markdown",
   "id": "48fc0ee0-f158-4c3a-954d-4f282e7117e7",
   "metadata": {},
   "source": [
    "1. create a csv to write our information\n",
    "2. create a function to scrape a small quote box\n",
    "3. apply that function to many quote boxes using a loop"
   ]
  },
  {
   "cell_type": "markdown",
   "id": "d8245476-0bf7-4ce1-a646-124a0a27962f",
   "metadata": {},
   "source": [
    "create a csv"
   ]
  },
  {
   "cell_type": "code",
   "execution_count": 3,
   "id": "cedf9811-1c51-47c3-9e39-37806f037d7d",
   "metadata": {},
   "outputs": [],
   "source": [
    "file = open(\"quotes.csv\", \"w\", encoding = \"UTF-8\")#create file to store scraped information"
   ]
  },
  {
   "cell_type": "code",
   "execution_count": 4,
   "id": "0172f732-967b-4ec6-b442-bb1411220915",
   "metadata": {},
   "outputs": [],
   "source": [
    "headers = [\"quote\",\"author\",\"bio-link\",\"tags\"]# create headers"
   ]
  },
  {
   "cell_type": "code",
   "execution_count": 5,
   "id": "922d02cd-e129-4847-9229-936072c1dd6f",
   "metadata": {},
   "outputs": [],
   "source": [
    "writer = csv.DictWriter(file, fieldnames = headers)# csv writer information"
   ]
  },
  {
   "cell_type": "code",
   "execution_count": 6,
   "id": "a5b89889-ed03-4733-931c-7a7f98c43550",
   "metadata": {},
   "outputs": [
    {
     "data": {
      "text/plain": [
       "28"
      ]
     },
     "execution_count": 6,
     "metadata": {},
     "output_type": "execute_result"
    }
   ],
   "source": [
    "writer.writeheader() #write headers to file"
   ]
  },
  {
   "cell_type": "markdown",
   "id": "30decc69-7e6d-48c7-9d50-a36c98e13e37",
   "metadata": {},
   "source": [
    "create a function to scrape a small quote box"
   ]
  },
  {
   "cell_type": "code",
   "execution_count": 7,
   "id": "34251611-758b-43c9-bf39-f0dd0941e9c7",
   "metadata": {},
   "outputs": [],
   "source": [
    "r = requests.get(url) # use requests library to get the url"
   ]
  },
  {
   "cell_type": "code",
   "execution_count": 8,
   "id": "97ded344-0d0c-4e04-8950-11793f686bf5",
   "metadata": {},
   "outputs": [
    {
     "data": {
      "text/plain": [
       "<Response [200]>"
      ]
     },
     "execution_count": 8,
     "metadata": {},
     "output_type": "execute_result"
    }
   ],
   "source": [
    "r"
   ]
  },
  {
   "cell_type": "code",
   "execution_count": 9,
   "id": "bd5a1909-edda-4fcf-b894-cdd18f6be265",
   "metadata": {},
   "outputs": [],
   "source": [
    "page = soup(r.text, \"html.parser\") # parse our request"
   ]
  },
  {
   "cell_type": "code",
   "execution_count": 10,
   "id": "50745705-673a-44d2-8968-cde7c0260dc2",
   "metadata": {},
   "outputs": [],
   "source": [
    "boxes = page.find_all(\"div\",{\"class\":\"quote\"})"
   ]
  },
  {
   "cell_type": "code",
   "execution_count": 11,
   "id": "fbdc66ad-8d5a-4481-8830-793f5c82a972",
   "metadata": {},
   "outputs": [
    {
     "data": {
      "text/plain": [
       "10"
      ]
     },
     "execution_count": 11,
     "metadata": {},
     "output_type": "execute_result"
    }
   ],
   "source": [
    "len(boxes)"
   ]
  },
  {
   "cell_type": "code",
   "execution_count": 12,
   "id": "69b6356b-2d11-4d19-9fb3-d252f13f1a8f",
   "metadata": {},
   "outputs": [
    {
     "data": {
      "text/plain": [
       "<div class=\"quote\" itemscope=\"\" itemtype=\"http://schema.org/CreativeWork\">\n",
       "<span class=\"text\" itemprop=\"text\">“The world as we have created it is a process of our thinking. It cannot be changed without changing our thinking.”</span>\n",
       "<span>by <small class=\"author\" itemprop=\"author\">Albert Einstein</small>\n",
       "<a href=\"/author/Albert-Einstein\">(about)</a>\n",
       "</span>\n",
       "<div class=\"tags\">\n",
       "            Tags:\n",
       "            <meta class=\"keywords\" content=\"change,deep-thoughts,thinking,world\" itemprop=\"keywords\"/>\n",
       "<a class=\"tag\" href=\"/tag/change/page/1/\">change</a>\n",
       "<a class=\"tag\" href=\"/tag/deep-thoughts/page/1/\">deep-thoughts</a>\n",
       "<a class=\"tag\" href=\"/tag/thinking/page/1/\">thinking</a>\n",
       "<a class=\"tag\" href=\"/tag/world/page/1/\">world</a>\n",
       "</div>\n",
       "</div>"
      ]
     },
     "execution_count": 12,
     "metadata": {},
     "output_type": "execute_result"
    }
   ],
   "source": [
    "boxes[0]"
   ]
  },
  {
   "cell_type": "markdown",
   "id": "da0eb9a6-a1fc-4dd8-af98-40c2522420e7",
   "metadata": {},
   "source": [
    "first_link = boxes[0].find_all(\"a\")[0]"
   ]
  },
  {
   "cell_type": "markdown",
   "id": "ebaffb0e-4280-4df3-857a-9fbbbaca5ee8",
   "metadata": {
    "tags": []
   },
   "source": [
    "first_link[\"href\"]"
   ]
  },
  {
   "cell_type": "markdown",
   "id": "53200419-c95c-424f-a842-3cc02e3be5d3",
   "metadata": {
    "tags": []
   },
   "source": [
    "whole_link = \"http://quotes.toscrape.com/\"+first_link[\"href\"]"
   ]
  },
  {
   "cell_type": "markdown",
   "id": "346f06bc-c43a-4e4a-a6a1-f2ad51280070",
   "metadata": {
    "tags": []
   },
   "source": [
    "whole_link"
   ]
  },
  {
   "cell_type": "code",
   "execution_count": 13,
   "id": "bd59ab7a-f50f-4da1-b673-822885545331",
   "metadata": {},
   "outputs": [],
   "source": [
    "def getContent(b):\n",
    "    \n",
    "    quote = b.find(\"span\", {\"class\":\"text\"}).text  \n",
    "    \n",
    "    author = b.find(\"small\",{\"class\":\"author\"}).text\n",
    "    \n",
    "    first_link = b.find_all(\"a\")[0] # get the first of many a tags collected\n",
    "    whole_link = \"http://quotes.toscrape.com/\"+first_link[\"href\"] # add to an existing link to complete it\n",
    "    \n",
    "    tags = b.find(\"meta\",{\"class\":\"keywords\"})[\"content\"]\n",
    "    \n",
    "    # write out contents to csv\n",
    "    \n",
    "    writer.writerow({\n",
    "        \"quote\":quote,\n",
    "        \"author\":author,\n",
    "        \"bio-link\":whole_link,\n",
    "        \"tags\":tags\n",
    "    })"
   ]
  },
  {
   "cell_type": "markdown",
   "id": "91ad1cad-7ebc-4533-bed7-65afebd52cea",
   "metadata": {},
   "source": [
    "loop throuth the boxes and run the function"
   ]
  },
  {
   "cell_type": "markdown",
   "id": "422bfbb9-148e-493b-a0bc-3cf9b8e36f6c",
   "metadata": {},
   "source": [
    "for b in boxes:\n",
    "    getContent(b)"
   ]
  },
  {
   "cell_type": "markdown",
   "id": "56305863-4d76-46c0-96e3-3a38b478ca2e",
   "metadata": {},
   "source": [
    "file.close()"
   ]
  },
  {
   "cell_type": "markdown",
   "id": "2752e611-4cc3-44e1-933c-db6a4096abb9",
   "metadata": {},
   "source": [
    "Create a function that scrapes a single page"
   ]
  },
  {
   "cell_type": "code",
   "execution_count": 14,
   "id": "cbf0c124-e6db-4beb-a995-ca4c501082b3",
   "metadata": {},
   "outputs": [],
   "source": [
    "def scrapePage(link):\n",
    "    r = requests.get(link) #get the information from the link\n",
    "    \n",
    "    page = soup(r.text,\"html.parser\") # parses the information from link\n",
    "    \n",
    "    boxes = page.find_all(\"div\",{\"class\":\"quote\"}) # finds all divs with quote class\n",
    "    \n",
    "    for b in boxes:# loop through the boxes to scrape all content\n",
    "        getContent(b)\n",
    "    \n",
    "        "
   ]
  },
  {
   "cell_type": "code",
   "execution_count": 15,
   "id": "5dc53261-06b8-4567-aec3-d9ea4178f1fb",
   "metadata": {},
   "outputs": [],
   "source": [
    "newUrl = \"http://quotes.toscrape.com/page/\""
   ]
  },
  {
   "cell_type": "code",
   "execution_count": 16,
   "id": "e8d245ce-cc47-4036-9f8e-913c780e5cd0",
   "metadata": {},
   "outputs": [],
   "source": [
    "scrapePage(newUrl)"
   ]
  },
  {
   "cell_type": "code",
   "execution_count": 17,
   "id": "1fd01f88-1697-41ff-b702-3d63f716f6de",
   "metadata": {
    "tags": []
   },
   "outputs": [],
   "source": [
    "page_numbers = list(range(1,11))"
   ]
  },
  {
   "cell_type": "code",
   "execution_count": 18,
   "id": "9e24224f-3aa0-4c18-a9b5-8ff3e40a9258",
   "metadata": {},
   "outputs": [
    {
     "data": {
      "text/plain": [
       "[1, 2, 3, 4, 5, 6, 7, 8, 9, 10]"
      ]
     },
     "execution_count": 18,
     "metadata": {},
     "output_type": "execute_result"
    }
   ],
   "source": [
    "page_numbers"
   ]
  },
  {
   "cell_type": "markdown",
   "id": "c316286e-fba1-4686-9b3a-f32b842950db",
   "metadata": {},
   "source": [
    "create a loop that creates new urls so we can run scrapePage function"
   ]
  },
  {
   "cell_type": "code",
   "execution_count": 19,
   "id": "2052ac7f-d00c-48ab-b570-1090f113d860",
   "metadata": {},
   "outputs": [
    {
     "name": "stdout",
     "output_type": "stream",
     "text": [
      "scraping page 1\n",
      "scraping page 2\n",
      "scraping page 3\n",
      "scraping page 4\n",
      "scraping page 5\n",
      "scraping page 6\n",
      "scraping page 7\n",
      "scraping page 8\n",
      "scraping page 9\n",
      "scraping page 10\n"
     ]
    }
   ],
   "source": [
    "for p in page_numbers:\n",
    "    front = \"https://quotes.toscrape.com/page/\"\n",
    "    page_url = front+str(p)+\"/\"\n",
    "    \n",
    "    time.sleep(1)\n",
    "    \n",
    "    scrapePage(page_url)\n",
    "    \n",
    "    time.sleep(1)\n",
    "    \n",
    "    print(f\"scraping page {p}\")"
   ]
  },
  {
   "cell_type": "code",
   "execution_count": 20,
   "id": "4c2e4ded-8f83-44a9-82c2-0b62c0b8589b",
   "metadata": {},
   "outputs": [],
   "source": [
    "file.close() ##very important!!!"
   ]
  },
  {
   "cell_type": "code",
   "execution_count": null,
   "id": "c8cd87a0-dbcd-4430-9ceb-b2369b28752f",
   "metadata": {},
   "outputs": [],
   "source": []
  }
 ],
 "metadata": {
  "kernelspec": {
   "display_name": "Python 3 (ipykernel)",
   "language": "python",
   "name": "python3"
  },
  "language_info": {
   "codemirror_mode": {
    "name": "ipython",
    "version": 3
   },
   "file_extension": ".py",
   "mimetype": "text/x-python",
   "name": "python",
   "nbconvert_exporter": "python",
   "pygments_lexer": "ipython3",
   "version": "3.9.7"
  }
 },
 "nbformat": 4,
 "nbformat_minor": 5
}
