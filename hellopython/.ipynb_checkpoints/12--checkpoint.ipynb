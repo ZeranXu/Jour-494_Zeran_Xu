{
 "cells": [
  {
   "cell_type": "code",
   "execution_count": 1,
   "id": "10463107-d84c-4bf3-8889-5080b94e9251",
   "metadata": {},
   "outputs": [],
   "source": [
    "import requests\n",
    "import time\n",
    "import csv\n",
    "from bs4 import BeautifulSoup as soup"
   ]
  },
  {
   "cell_type": "code",
   "execution_count": 2,
   "id": "74fb1eaa-deaf-43e3-8f6e-cf227cf98bf8",
   "metadata": {},
   "outputs": [],
   "source": [
    "site = \"https://losangeles.craigslist.org/search/apa\""
   ]
  },
  {
   "cell_type": "code",
   "execution_count": 3,
   "id": "974220fb-b0dd-474c-9e11-943026417e56",
   "metadata": {},
   "outputs": [],
   "source": [
    "file = open (\"apartments.csv\", \"w\")"
   ]
  },
  {
   "cell_type": "code",
   "execution_count": 4,
   "id": "e05d3574-b286-47b1-b4b6-659beba72baf",
   "metadata": {},
   "outputs": [],
   "source": [
    "headers = [\"title\", \"url\", \"price\", \"photo?\", \"bedrooms\", \"dogs\", \"cats\"]"
   ]
  },
  {
   "cell_type": "code",
   "execution_count": 5,
   "id": "d05fdbc8-0e9a-4d88-95fe-b51c39de6b19",
   "metadata": {},
   "outputs": [],
   "source": [
    "writer = csv.DictWriter(file, fieldnames = headers) #writer function"
   ]
  },
  {
   "cell_type": "code",
   "execution_count": 6,
   "id": "0e86af54-4a8f-4852-af2f-d52bc9b332b0",
   "metadata": {},
   "outputs": [
    {
     "data": {
      "text/plain": [
       "43"
      ]
     },
     "execution_count": 6,
     "metadata": {},
     "output_type": "execute_result"
    }
   ],
   "source": [
    "writer.writeheader()"
   ]
  },
  {
   "cell_type": "markdown",
   "id": "e4fb97fb-6f2e-4d91-91df-8f575190868d",
   "metadata": {},
   "source": [
    "Request the page"
   ]
  },
  {
   "cell_type": "code",
   "execution_count": 7,
   "id": "3094402b-d80d-4fe9-8a04-12ba762c715f",
   "metadata": {},
   "outputs": [],
   "source": [
    "r = requests.get(site)"
   ]
  },
  {
   "cell_type": "code",
   "execution_count": 8,
   "id": "1c69097e-e2a7-48da-8a8d-b460664cf4bf",
   "metadata": {},
   "outputs": [
    {
     "data": {
      "text/plain": [
       "<Response [200]>"
      ]
     },
     "execution_count": 8,
     "metadata": {},
     "output_type": "execute_result"
    }
   ],
   "source": [
    "r"
   ]
  },
  {
   "cell_type": "code",
   "execution_count": 9,
   "id": "7f85de90-0a92-46e9-93b1-52cd6afd82ab",
   "metadata": {},
   "outputs": [],
   "source": [
    "page = soup(r.text,'html.parser')"
   ]
  },
  {
   "cell_type": "code",
   "execution_count": 10,
   "id": "ca5ace01-5d1e-46e6-9117-dc9fae6abac7",
   "metadata": {},
   "outputs": [],
   "source": [
    "houses = page.findAll('li', {'class':'result-row'}) # find all <li> elements with class called \"result-row\", in a list"
   ]
  },
  {
   "cell_type": "code",
   "execution_count": 11,
   "id": "c32a46e4-83e3-4517-b348-26dab68c63c4",
   "metadata": {},
   "outputs": [
    {
     "data": {
      "text/plain": [
       "120"
      ]
     },
     "execution_count": 11,
     "metadata": {},
     "output_type": "execute_result"
    }
   ],
   "source": [
    "len(houses)"
   ]
  },
  {
   "cell_type": "code",
   "execution_count": 12,
   "id": "c18a9660-76a5-4984-8d96-611bb41c42e7",
   "metadata": {},
   "outputs": [
    {
     "data": {
      "text/plain": [
       "<li class=\"result-row\" data-pid=\"7470161360\">\n",
       "<a class=\"result-image gallery\" data-ids=\"3:00Y0Y_3Jdg9bA8ECIz_0wg0g8,3:00n0n_2TIiyHe9kT1z_0wg0g8,3:00U0U_i1d29IiCTVBz_0wg0g8,3:00D0D_k9B8vSI2zvmz_0wg0g8,3:00Y0Y_6mCHorv6S8yz_0wg0g8,3:00h0h_6zUSuPkTvOIz_0wg0g8,3:00g0g_kBlhD6Ljeeqz_0wg0g8,3:01515_eSjPiojzWeHz_0wg0g8,3:00v0v_71ecBhQzS3hz_0cU0cU\" href=\"https://losangeles.craigslist.org/wst/apa/d/culver-city-looking-for-an-upgrade-big/7470161360.html\">\n",
       "<span class=\"result-price\">$3,231</span>\n",
       "</a>\n",
       "<div class=\"result-info\">\n",
       "<span class=\"icon icon-star\" role=\"button\">\n",
       "<span class=\"screen-reader-text\">favorite this post</span>\n",
       "</span>\n",
       "<time class=\"result-date\" datetime=\"2022-04-11 19:41\" title=\"Mon 11 Apr 07:41:11 PM\">Apr 11</time>\n",
       "<h3 class=\"result-heading\">\n",
       "<a class=\"result-title hdrlnk\" data-id=\"7470161360\" href=\"https://losangeles.craigslist.org/wst/apa/d/culver-city-looking-for-an-upgrade-big/7470161360.html\" id=\"postid_7470161360\">Looking for an upgrade? BIG 2x2 w/ pools, fitness center, spa, &amp; more</a>\n",
       "</h3>\n",
       "<span class=\"result-meta\">\n",
       "<span class=\"result-price\">$3,231</span>\n",
       "<span class=\"housing\">\n",
       "                    2br -\n",
       "                    1087ft<sup>2</sup> -\n",
       "                </span>\n",
       "<span class=\"result-hood\"> (6300 Green Valley Circle, Culver City, CA)</span>\n",
       "<span class=\"result-tags\">\n",
       "<span class=\"pictag\">pic</span>\n",
       "</span>\n",
       "<span class=\"banish icon icon-trash\" role=\"button\">\n",
       "<span class=\"screen-reader-text\">hide this posting</span>\n",
       "</span>\n",
       "<span aria-hidden=\"true\" class=\"unbanish icon icon-trash red\" role=\"button\"></span>\n",
       "<a class=\"restore-link\" href=\"#\">\n",
       "<span class=\"restore-narrow-text\">restore</span>\n",
       "<span class=\"restore-wide-text\">restore this posting</span>\n",
       "</a>\n",
       "</span>\n",
       "</div>\n",
       "</li>"
      ]
     },
     "execution_count": 12,
     "metadata": {},
     "output_type": "execute_result"
    }
   ],
   "source": [
    "houses[0]"
   ]
  },
  {
   "cell_type": "code",
   "execution_count": 13,
   "id": "9accecde-0658-4445-b765-6cace2e35b2f",
   "metadata": {},
   "outputs": [],
   "source": [
    "price = houses[0].find('span', {\"class\":\"result-price\"}).text.replace('$','').replace(',','')"
   ]
  },
  {
   "cell_type": "code",
   "execution_count": 14,
   "id": "99e2399b-1152-49d4-899b-669bcbb7e595",
   "metadata": {},
   "outputs": [
    {
     "data": {
      "text/plain": [
       "3231"
      ]
     },
     "execution_count": 14,
     "metadata": {},
     "output_type": "execute_result"
    }
   ],
   "source": [
    "int(price)"
   ]
  },
  {
   "cell_type": "code",
   "execution_count": 17,
   "id": "0f4c869e-8796-4e8d-a343-a867df95d24c",
   "metadata": {},
   "outputs": [],
   "source": [
    "def getInfo(h):\n",
    "    \"\"\"\n",
    "    get the price, photo avaialability, name and link\n",
    "    \"\"\"\n",
    "    price = h.find('span', {\"class\":\"result-price\"}).text.replace('$','') #find the price\n",
    "    \n",
    "    #name \n",
    "    name = h.find('a', {'class':'result-title'}).text\n",
    "    \n",
    "    #are there photos\n",
    "    \n",
    "    if h.find('a', {'class':'result-title'}).has_attr('title'):\n",
    "         photo = \"no\" #then there is no photo\n",
    "    else:\n",
    "        photo = 'yes' # if the a tag does not have title attribute, \n",
    "    \n",
    "    #detail link\n",
    "    link = h.find('a', {'class':'result-title'})[\"href\"]\n",
    "    time.sleep(1) #take a second of rest\n",
    "    \n",
    "    # go into the detail page -- request url\n",
    "    d = requests.get(link).text\n",
    "    \n",
    "    #get page\n",
    "    dpage = soup(d, 'html.parser')\n",
    "    \n",
    "    # of all <p> with the class attrgroup\n",
    "    group = dpage.findAll('p', {'class':'attrgroup'})\n",
    "    \n",
    "     # first of the attr group, then find the first <span> and find the first <b>\n",
    "    br = group[0].find('span').find('b').text\n",
    "    \n",
    "    # if there is another \"attrgroup\"\n",
    "    if len(group) == 2:\n",
    "        \n",
    "        # if these words are present set as true - boolean type data\n",
    "        dogsallowed = 'wooof' in group[1].text\n",
    "        catsallowed = 'purrr' in group[1].text\n",
    "    else:\n",
    "        dogsallowed = False\n",
    "        catsallowed = False\n",
    "    \n",
    "    time.sleep(1)\n",
    "    \n",
    "    #write it all out\n",
    "    writer.writerow({\n",
    "        \"title\":name,\n",
    "        \"url\":link,\n",
    "        \"price\":price,\n",
    "        \"photo?\":photo,\n",
    "        \"bedrooms\":br,\n",
    "        \"dogs\":dogsallowed,\n",
    "        \"cats\":catsallowed\n",
    "    })\n",
    "    \n",
    "    time.sleep(1)\n",
    "    print(\"scraping a house\")\n",
    "    "
   ]
  },
  {
   "cell_type": "code",
   "execution_count": 18,
   "id": "02d42627-7f38-4a2d-9871-b47b08994b9f",
   "metadata": {},
   "outputs": [
    {
     "name": "stdout",
     "output_type": "stream",
     "text": [
      "scraping a house\n",
      "scraping a house\n",
      "scraping a house\n",
      "scraping a house\n",
      "scraping a house\n",
      "scraping a house\n",
      "scraping a house\n",
      "scraping a house\n",
      "scraping a house\n",
      "scraping a house\n",
      "scraping a house\n",
      "scraping a house\n",
      "scraping a house\n",
      "scraping a house\n",
      "scraping a house\n",
      "scraping a house\n",
      "scraping a house\n",
      "scraping a house\n",
      "scraping a house\n",
      "scraping a house\n",
      "scraping a house\n",
      "scraping a house\n",
      "scraping a house\n",
      "scraping a house\n",
      "scraping a house\n",
      "scraping a house\n",
      "scraping a house\n",
      "scraping a house\n",
      "scraping a house\n",
      "scraping a house\n",
      "scraping a house\n",
      "scraping a house\n",
      "scraping a house\n",
      "scraping a house\n",
      "scraping a house\n",
      "scraping a house\n",
      "scraping a house\n",
      "scraping a house\n",
      "scraping a house\n",
      "scraping a house\n",
      "scraping a house\n",
      "scraping a house\n",
      "scraping a house\n",
      "scraping a house\n",
      "scraping a house\n",
      "scraping a house\n",
      "scraping a house\n",
      "scraping a house\n",
      "scraping a house\n",
      "scraping a house\n",
      "scraping a house\n",
      "scraping a house\n",
      "scraping a house\n",
      "scraping a house\n",
      "scraping a house\n",
      "scraping a house\n",
      "scraping a house\n",
      "scraping a house\n",
      "scraping a house\n",
      "scraping a house\n",
      "scraping a house\n",
      "scraping a house\n",
      "scraping a house\n",
      "scraping a house\n",
      "scraping a house\n",
      "scraping a house\n",
      "scraping a house\n",
      "scraping a house\n",
      "scraping a house\n",
      "scraping a house\n",
      "scraping a house\n",
      "scraping a house\n",
      "scraping a house\n",
      "scraping a house\n",
      "scraping a house\n",
      "scraping a house\n",
      "scraping a house\n",
      "scraping a house\n",
      "scraping a house\n",
      "scraping a house\n",
      "scraping a house\n",
      "scraping a house\n",
      "scraping a house\n",
      "scraping a house\n",
      "scraping a house\n",
      "scraping a house\n",
      "scraping a house\n",
      "scraping a house\n",
      "scraping a house\n",
      "scraping a house\n",
      "scraping a house\n",
      "scraping a house\n",
      "scraping a house\n",
      "scraping a house\n",
      "scraping a house\n",
      "scraping a house\n",
      "scraping a house\n",
      "scraping a house\n",
      "scraping a house\n",
      "scraping a house\n",
      "scraping a house\n",
      "scraping a house\n"
     ]
    },
    {
     "ename": "UnicodeEncodeError",
     "evalue": "'gbk' codec can't encode character '\\u2b50' in position 0: illegal multibyte sequence",
     "output_type": "error",
     "traceback": [
      "\u001b[1;31m---------------------------------------------------------------------------\u001b[0m",
      "\u001b[1;31mUnicodeEncodeError\u001b[0m                        Traceback (most recent call last)",
      "\u001b[1;32m~\\AppData\\Local\\Temp/ipykernel_1940/1752533900.py\u001b[0m in \u001b[0;36m<module>\u001b[1;34m\u001b[0m\n\u001b[0;32m      1\u001b[0m \u001b[1;32mfor\u001b[0m \u001b[0mh\u001b[0m \u001b[1;32min\u001b[0m \u001b[0mhouses\u001b[0m\u001b[1;33m:\u001b[0m\u001b[1;33m\u001b[0m\u001b[1;33m\u001b[0m\u001b[0m\n\u001b[1;32m----> 2\u001b[1;33m     \u001b[0mgetInfo\u001b[0m\u001b[1;33m(\u001b[0m\u001b[0mh\u001b[0m\u001b[1;33m)\u001b[0m\u001b[1;33m\u001b[0m\u001b[1;33m\u001b[0m\u001b[0m\n\u001b[0m",
      "\u001b[1;32m~\\AppData\\Local\\Temp/ipykernel_1940/531371407.py\u001b[0m in \u001b[0;36mgetInfo\u001b[1;34m(h)\u001b[0m\n\u001b[0;32m     44\u001b[0m \u001b[1;33m\u001b[0m\u001b[0m\n\u001b[0;32m     45\u001b[0m     \u001b[1;31m#write it all out\u001b[0m\u001b[1;33m\u001b[0m\u001b[1;33m\u001b[0m\u001b[0m\n\u001b[1;32m---> 46\u001b[1;33m     writer.writerow({\n\u001b[0m\u001b[0;32m     47\u001b[0m         \u001b[1;34m\"title\"\u001b[0m\u001b[1;33m:\u001b[0m\u001b[0mname\u001b[0m\u001b[1;33m,\u001b[0m\u001b[1;33m\u001b[0m\u001b[1;33m\u001b[0m\u001b[0m\n\u001b[0;32m     48\u001b[0m         \u001b[1;34m\"url\"\u001b[0m\u001b[1;33m:\u001b[0m\u001b[0mlink\u001b[0m\u001b[1;33m,\u001b[0m\u001b[1;33m\u001b[0m\u001b[1;33m\u001b[0m\u001b[0m\n",
      "\u001b[1;32m~\\anaconda3\\lib\\csv.py\u001b[0m in \u001b[0;36mwriterow\u001b[1;34m(self, rowdict)\u001b[0m\n\u001b[0;32m    152\u001b[0m \u001b[1;33m\u001b[0m\u001b[0m\n\u001b[0;32m    153\u001b[0m     \u001b[1;32mdef\u001b[0m \u001b[0mwriterow\u001b[0m\u001b[1;33m(\u001b[0m\u001b[0mself\u001b[0m\u001b[1;33m,\u001b[0m \u001b[0mrowdict\u001b[0m\u001b[1;33m)\u001b[0m\u001b[1;33m:\u001b[0m\u001b[1;33m\u001b[0m\u001b[1;33m\u001b[0m\u001b[0m\n\u001b[1;32m--> 154\u001b[1;33m         \u001b[1;32mreturn\u001b[0m \u001b[0mself\u001b[0m\u001b[1;33m.\u001b[0m\u001b[0mwriter\u001b[0m\u001b[1;33m.\u001b[0m\u001b[0mwriterow\u001b[0m\u001b[1;33m(\u001b[0m\u001b[0mself\u001b[0m\u001b[1;33m.\u001b[0m\u001b[0m_dict_to_list\u001b[0m\u001b[1;33m(\u001b[0m\u001b[0mrowdict\u001b[0m\u001b[1;33m)\u001b[0m\u001b[1;33m)\u001b[0m\u001b[1;33m\u001b[0m\u001b[1;33m\u001b[0m\u001b[0m\n\u001b[0m\u001b[0;32m    155\u001b[0m \u001b[1;33m\u001b[0m\u001b[0m\n\u001b[0;32m    156\u001b[0m     \u001b[1;32mdef\u001b[0m \u001b[0mwriterows\u001b[0m\u001b[1;33m(\u001b[0m\u001b[0mself\u001b[0m\u001b[1;33m,\u001b[0m \u001b[0mrowdicts\u001b[0m\u001b[1;33m)\u001b[0m\u001b[1;33m:\u001b[0m\u001b[1;33m\u001b[0m\u001b[1;33m\u001b[0m\u001b[0m\n",
      "\u001b[1;31mUnicodeEncodeError\u001b[0m: 'gbk' codec can't encode character '\\u2b50' in position 0: illegal multibyte sequence"
     ]
    }
   ],
   "source": [
    "for h in houses:\n",
    "    getInfo(h)"
   ]
  },
  {
   "cell_type": "code",
   "execution_count": null,
   "id": "84c2f3df-befd-4b0c-b438-c0863830d3bf",
   "metadata": {},
   "outputs": [],
   "source": [
    "file.close()"
   ]
  },
  {
   "cell_type": "code",
   "execution_count": null,
   "id": "fbfa5c79-aad3-4826-8119-122914193a39",
   "metadata": {},
   "outputs": [],
   "source": []
  }
 ],
 "metadata": {
  "kernelspec": {
   "display_name": "Python 3 (ipykernel)",
   "language": "python",
   "name": "python3"
  },
  "language_info": {
   "codemirror_mode": {
    "name": "ipython",
    "version": 3
   },
   "file_extension": ".py",
   "mimetype": "text/x-python",
   "name": "python",
   "nbconvert_exporter": "python",
   "pygments_lexer": "ipython3",
   "version": "3.9.7"
  }
 },
 "nbformat": 4,
 "nbformat_minor": 5
}
