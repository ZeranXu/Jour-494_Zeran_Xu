{
 "cells": [
  {
   "cell_type": "code",
   "execution_count": 1,
   "id": "27eac4ee-4482-47c1-9adb-4e60aca591ed",
   "metadata": {},
   "outputs": [],
   "source": [
    "json = {\n",
    "  \"squadName\": \"Super hero squad\",\n",
    "  \"homeTown\": \"Metro City\",\n",
    "  \"formed\": 2016,\n",
    "  \"secretBase\": \"Super tower\",\n",
    "  \"active\": \"true\",\n",
    "  \"members\": [\n",
    "    {\n",
    "      \"name\": \"Molecule Man\",\n",
    "      \"age\": 29,\n",
    "      \"secretIdentity\": \"Dan Jukes\",\n",
    "      \"powers\": [\n",
    "        \"Radiation resistance\",\n",
    "        \"Turning tiny\",\n",
    "        \"Radiation blast\"\n",
    "      ]\n",
    "    },\n",
    "    {\n",
    "      \"name\": \"Madame Uppercut\",\n",
    "      \"age\": 39,\n",
    "      \"secretIdentity\": \"Jane Wilson\",\n",
    "      \"powers\": [\n",
    "        \"Million tonne punch\",\n",
    "        \"Damage resistance\",\n",
    "        \"Superhuman reflexes\"\n",
    "      ]\n",
    "    },\n",
    "    {\n",
    "      \"name\": \"Eternal Flame\",\n",
    "      \"age\": 1000000,\n",
    "      \"secretIdentity\": \"Unknown\",\n",
    "      \"powers\": [\n",
    "        \"Immortality\",\n",
    "        \"Heat Immunity\",\n",
    "        \"Inferno\",\n",
    "        \"Teleportation\",\n",
    "        \"Interdimensional travel\"\n",
    "      ]\n",
    "    }\n",
    "  ]\n",
    "}"
   ]
  },
  {
   "cell_type": "code",
   "execution_count": 2,
   "id": "7a545480-c30a-40dc-b008-bb7585ebc37c",
   "metadata": {},
   "outputs": [
    {
     "data": {
      "text/plain": [
       "'Metro City'"
      ]
     },
     "execution_count": 2,
     "metadata": {},
     "output_type": "execute_result"
    }
   ],
   "source": [
    "json['homeTown']"
   ]
  },
  {
   "cell_type": "code",
   "execution_count": 3,
   "id": "394f3fd6-56f0-4188-828f-402d81ab3e34",
   "metadata": {},
   "outputs": [
    {
     "data": {
      "text/plain": [
       "'Super tower'"
      ]
     },
     "execution_count": 3,
     "metadata": {},
     "output_type": "execute_result"
    }
   ],
   "source": [
    "json['secretBase']"
   ]
  },
  {
   "cell_type": "code",
   "execution_count": 4,
   "id": "c009b5e4-98c6-4800-ba62-068c5326bd9c",
   "metadata": {},
   "outputs": [
    {
     "data": {
      "text/plain": [
       "{'name': 'Eternal Flame',\n",
       " 'age': 1000000,\n",
       " 'secretIdentity': 'Unknown',\n",
       " 'powers': ['Immortality',\n",
       "  'Heat Immunity',\n",
       "  'Inferno',\n",
       "  'Teleportation',\n",
       "  'Interdimensional travel']}"
      ]
     },
     "execution_count": 4,
     "metadata": {},
     "output_type": "execute_result"
    }
   ],
   "source": [
    "json['members'][2]"
   ]
  },
  {
   "cell_type": "code",
   "execution_count": 5,
   "id": "949f1a18-ed2d-445d-8243-a6fea6e729f8",
   "metadata": {},
   "outputs": [
    {
     "data": {
      "text/plain": [
       "{'name': 'Molecule Man',\n",
       " 'age': 29,\n",
       " 'secretIdentity': 'Dan Jukes',\n",
       " 'powers': ['Radiation resistance', 'Turning tiny', 'Radiation blast']}"
      ]
     },
     "execution_count": 5,
     "metadata": {},
     "output_type": "execute_result"
    }
   ],
   "source": [
    "json['members'][0]"
   ]
  },
  {
   "cell_type": "code",
   "execution_count": 6,
   "id": "b29d19d5-3810-4ac6-9bf6-1b8028322916",
   "metadata": {},
   "outputs": [
    {
     "data": {
      "text/plain": [
       "1000000"
      ]
     },
     "execution_count": 6,
     "metadata": {},
     "output_type": "execute_result"
    }
   ],
   "source": [
    "json['members'][2]['age']"
   ]
  },
  {
   "cell_type": "code",
   "execution_count": null,
   "id": "5f34dd53-af22-4e34-847a-0134b87b2489",
   "metadata": {},
   "outputs": [],
   "source": []
  }
 ],
 "metadata": {
  "kernelspec": {
   "display_name": "Python 3 (ipykernel)",
   "language": "python",
   "name": "python3"
  },
  "language_info": {
   "codemirror_mode": {
    "name": "ipython",
    "version": 3
   },
   "file_extension": ".py",
   "mimetype": "text/x-python",
   "name": "python",
   "nbconvert_exporter": "python",
   "pygments_lexer": "ipython3",
   "version": "3.9.7"
  }
 },
 "nbformat": 4,
 "nbformat_minor": 5
}
