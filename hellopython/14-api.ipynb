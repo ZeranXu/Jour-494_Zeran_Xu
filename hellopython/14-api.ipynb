{
 "cells": [
  {
   "cell_type": "markdown",
   "id": "41d43f7d-2c0f-4b67-9871-674866803eea",
   "metadata": {},
   "source": [
    "Get USC's 990 filing through Propublica's API\n",
    "https://projects.propublica.org/nonprofits/api"
   ]
  },
  {
   "cell_type": "code",
   "execution_count": 1,
   "id": "a1f32c1e-9d80-4ef9-bc50-639de84854af",
   "metadata": {},
   "outputs": [],
   "source": [
    "import requests\n",
    "import pandas as pd"
   ]
  },
  {
   "cell_type": "code",
   "execution_count": 2,
   "id": "409d73c5-ec8a-4556-9cd4-675ff470ec7e",
   "metadata": {},
   "outputs": [],
   "source": [
    "usc = \"951642394\""
   ]
  },
  {
   "cell_type": "code",
   "execution_count": 3,
   "id": "2891c6d6-a719-4147-9546-eaea6cd66d51",
   "metadata": {},
   "outputs": [],
   "source": [
    "url = \"https://projects.propublica.org/nonprofits/api/v2\""
   ]
  },
  {
   "cell_type": "code",
   "execution_count": 4,
   "id": "655cc44f-97d1-4665-bb52-a557cec37237",
   "metadata": {},
   "outputs": [],
   "source": [
    "usc_url = f\"{url}/organizations/{usc}.json\""
   ]
  },
  {
   "cell_type": "code",
   "execution_count": 5,
   "id": "129dd204-360f-4fb1-af7c-ce994baaff59",
   "metadata": {},
   "outputs": [
    {
     "data": {
      "text/plain": [
       "'https://projects.propublica.org/nonprofits/api/v2/organizations/951642394.json'"
      ]
     },
     "execution_count": 5,
     "metadata": {},
     "output_type": "execute_result"
    }
   ],
   "source": [
    "usc_url"
   ]
  },
  {
   "cell_type": "code",
   "execution_count": 6,
   "id": "263bd025-a66f-4558-bf2e-2a10a7aa5732",
   "metadata": {},
   "outputs": [],
   "source": [
    "r = requests.get(usc_url)"
   ]
  },
  {
   "cell_type": "code",
   "execution_count": 7,
   "id": "a884e98a-6386-4708-9043-e3393c3d69b4",
   "metadata": {},
   "outputs": [
    {
     "data": {
      "text/plain": [
       "<Response [200]>"
      ]
     },
     "execution_count": 7,
     "metadata": {},
     "output_type": "execute_result"
    }
   ],
   "source": [
    "r"
   ]
  },
  {
   "cell_type": "code",
   "execution_count": 8,
   "id": "60f5cfc4-aa15-402e-95e0-6b69032dd871",
   "metadata": {},
   "outputs": [],
   "source": [
    "data = r.json()"
   ]
  },
  {
   "cell_type": "code",
   "execution_count": 9,
   "id": "67833e59-70a9-405a-80a9-fb71dba80fae",
   "metadata": {},
   "outputs": [
    {
     "data": {
      "text/plain": [
       "'UNIVERSITY OF SOUTHERN CALIFORNIA'"
      ]
     },
     "execution_count": 9,
     "metadata": {},
     "output_type": "execute_result"
    }
   ],
   "source": [
    "data['organization']['name']"
   ]
  },
  {
   "cell_type": "code",
   "execution_count": 10,
   "id": "46d39141-1423-4500-b374-cfcd67022a9e",
   "metadata": {},
   "outputs": [
    {
     "data": {
      "text/plain": [
       "2019"
      ]
     },
     "execution_count": 10,
     "metadata": {},
     "output_type": "execute_result"
    }
   ],
   "source": [
    "data['filings_with_data'][0]['tax_prd_yr']"
   ]
  },
  {
   "cell_type": "code",
   "execution_count": 11,
   "id": "eea0a8f1-2f6e-462d-9fb0-d798816b50b7",
   "metadata": {},
   "outputs": [
    {
     "data": {
      "text/plain": [
       "5855965866"
      ]
     },
     "execution_count": 11,
     "metadata": {},
     "output_type": "execute_result"
    }
   ],
   "source": [
    "data['filings_with_data'][0]['totrevenue']"
   ]
  },
  {
   "cell_type": "code",
   "execution_count": 12,
   "id": "0c40ed7c-f7ce-4ff4-a001-4deee94c8c6a",
   "metadata": {},
   "outputs": [
    {
     "data": {
      "text/plain": [
       "5995636598"
      ]
     },
     "execution_count": 12,
     "metadata": {},
     "output_type": "execute_result"
    }
   ],
   "source": [
    "data['filings_with_data'][0]['totfuncexpns']"
   ]
  },
  {
   "cell_type": "code",
   "execution_count": 13,
   "id": "b4622afc-0c98-4fd4-be6f-66215dede62a",
   "metadata": {},
   "outputs": [
    {
     "data": {
      "text/plain": [
       "'https://projects.propublica.org/nonprofits/download-filing?path=02_2021_prefixes_92-95%2F951642394_201906_990_2021020917700041.pdf'"
      ]
     },
     "execution_count": 13,
     "metadata": {},
     "output_type": "execute_result"
    }
   ],
   "source": [
    "data['filings_with_data'][0]['pdf_url']"
   ]
  },
  {
   "cell_type": "code",
   "execution_count": 14,
   "id": "08593098-f05b-4c46-922a-51f0aba1fa72",
   "metadata": {},
   "outputs": [],
   "source": [
    "eins = ['952250801','951642394']"
   ]
  },
  {
   "cell_type": "code",
   "execution_count": 15,
   "id": "bf81f9be-a78b-4052-b22c-c391e3b6d0a8",
   "metadata": {},
   "outputs": [],
   "source": [
    "namelist = []\n",
    "yearlist = []\n",
    "revlist = []\n",
    "expenselist = []\n",
    "linklist = []\n",
    "\n",
    "def getData():\n",
    "    # base url to request for API\n",
    "    baseurl = \"https://projects.propublica.org/nonprofits/api/v2\"\n",
    "    \n",
    "    #loop through the ein in a list and create a lookup URL\n",
    "    for e in eins:\n",
    "        lookupUrl = f\"{baseurl}/organizations/{e}.json\"\n",
    "        \n",
    "        # request the lookup url\n",
    "        rlookup = requests.get(lookupUrl)\n",
    "        \n",
    "        # get data in json format\n",
    "        lookupdata = rlookup.json()\n",
    "        \n",
    "        name = lookupdata['organization']['name']\n",
    "        year = lookupdata['filings_with_data'][0]['tax_prd_yr']\n",
    "        revenue = lookupdata['filings_with_data'][0]['totrevenue']\n",
    "        expense = lookupdata['filings_with_data'][0]['totfuncexpns']\n",
    "        link = lookupdata['filings_with_data'][0]['pdf_url']\n",
    "        \n",
    "        namelist.append(name)\n",
    "        yearlist.append(year)\n",
    "        revlist.append(revenue)\n",
    "        expenselist.append(expense)\n",
    "        linklist.append(link)\n",
    "        "
   ]
  },
  {
   "cell_type": "code",
   "execution_count": 16,
   "id": "df835a81-8e6b-49c0-9d38-4b37f7473197",
   "metadata": {},
   "outputs": [],
   "source": [
    "getData()"
   ]
  },
  {
   "cell_type": "code",
   "execution_count": 17,
   "id": "31ee12a7-a050-436a-ac96-35cf20859c1c",
   "metadata": {},
   "outputs": [],
   "source": [
    "df = pd.DataFrame(data = {\n",
    "     \"name\":namelist,\n",
    "     \"year\":yearlist,\n",
    "     \"revenue\":revlist,\n",
    "     \"expense\":expenselist,\n",
    "     \"link\":linklist\n",
    "})"
   ]
  },
  {
   "cell_type": "code",
   "execution_count": 18,
   "id": "0b46066e-4a2f-4fb3-87cd-183d97c90ce4",
   "metadata": {},
   "outputs": [
    {
     "data": {
      "text/html": [
       "<div>\n",
       "<style scoped>\n",
       "    .dataframe tbody tr th:only-of-type {\n",
       "        vertical-align: middle;\n",
       "    }\n",
       "\n",
       "    .dataframe tbody tr th {\n",
       "        vertical-align: top;\n",
       "    }\n",
       "\n",
       "    .dataframe thead th {\n",
       "        text-align: right;\n",
       "    }\n",
       "</style>\n",
       "<table border=\"1\" class=\"dataframe\">\n",
       "  <thead>\n",
       "    <tr style=\"text-align: right;\">\n",
       "      <th></th>\n",
       "      <th>name</th>\n",
       "      <th>year</th>\n",
       "      <th>revenue</th>\n",
       "      <th>expense</th>\n",
       "      <th>link</th>\n",
       "    </tr>\n",
       "  </thead>\n",
       "  <tbody>\n",
       "    <tr>\n",
       "      <th>0</th>\n",
       "      <td>THE UCLA FOUNDATION</td>\n",
       "      <td>2019</td>\n",
       "      <td>557879629</td>\n",
       "      <td>333382411</td>\n",
       "      <td>https://projects.propublica.org/nonprofits/dow...</td>\n",
       "    </tr>\n",
       "    <tr>\n",
       "      <th>1</th>\n",
       "      <td>UNIVERSITY OF SOUTHERN CALIFORNIA</td>\n",
       "      <td>2019</td>\n",
       "      <td>5855965866</td>\n",
       "      <td>5995636598</td>\n",
       "      <td>https://projects.propublica.org/nonprofits/dow...</td>\n",
       "    </tr>\n",
       "  </tbody>\n",
       "</table>\n",
       "</div>"
      ],
      "text/plain": [
       "                                name  year     revenue     expense  \\\n",
       "0                THE UCLA FOUNDATION  2019   557879629   333382411   \n",
       "1  UNIVERSITY OF SOUTHERN CALIFORNIA  2019  5855965866  5995636598   \n",
       "\n",
       "                                                link  \n",
       "0  https://projects.propublica.org/nonprofits/dow...  \n",
       "1  https://projects.propublica.org/nonprofits/dow...  "
      ]
     },
     "execution_count": 18,
     "metadata": {},
     "output_type": "execute_result"
    }
   ],
   "source": [
    "df"
   ]
  },
  {
   "cell_type": "code",
   "execution_count": null,
   "id": "e257d2ca-1f49-4739-93b8-4d54cc25ab9f",
   "metadata": {},
   "outputs": [],
   "source": []
  },
  {
   "cell_type": "code",
   "execution_count": null,
   "id": "493f0d0e-b764-41b9-bdb7-7b3428f92163",
   "metadata": {},
   "outputs": [],
   "source": []
  }
 ],
 "metadata": {
  "kernelspec": {
   "display_name": "Python 3 (ipykernel)",
   "language": "python",
   "name": "python3"
  },
  "language_info": {
   "codemirror_mode": {
    "name": "ipython",
    "version": 3
   },
   "file_extension": ".py",
   "mimetype": "text/x-python",
   "name": "python",
   "nbconvert_exporter": "python",
   "pygments_lexer": "ipython3",
   "version": "3.9.7"
  }
 },
 "nbformat": 4,
 "nbformat_minor": 5
}
