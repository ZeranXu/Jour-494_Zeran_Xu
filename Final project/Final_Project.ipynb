{
 "cells": [
  {
   "cell_type": "markdown",
   "id": "006354b4-43e7-4738-a097-3138e9efc8d3",
   "metadata": {},
   "source": [
    "# Analyze 2021 LA county Accidents data (Daytime)"
   ]
  },
  {
   "cell_type": "markdown",
   "id": "a1d04489-d5b7-4ad2-9edb-580b5575b02c",
   "metadata": {},
   "source": [
    "Credit to https://smoosavi.org/datasets/us_accidents\n",
    "\n",
    "Moosavi, Sobhan, Mohammad Hossein Samavatian, Srinivasan Parthasarathy, and Rajiv Ramnath. “A Countrywide Traffic Accident Dataset.”, arXiv preprint arXiv:1906.05409 (2019)."
   ]
  },
  {
   "cell_type": "code",
   "execution_count": 1,
   "id": "9abc1a73-bd1a-4c60-a98b-fc5daeff8fcb",
   "metadata": {},
   "outputs": [],
   "source": [
    "import pandas as pd"
   ]
  },
  {
   "cell_type": "code",
   "execution_count": 2,
   "id": "8273084b-09c5-429f-b153-93a75c3c33fc",
   "metadata": {},
   "outputs": [],
   "source": [
    "df = pd.read_csv(\"2021_LA_Day_accidents.csv\")"
   ]
  },
  {
   "cell_type": "code",
   "execution_count": 3,
   "id": "de090238-5a29-4aaf-a4a8-f59d0a343cc3",
   "metadata": {},
   "outputs": [
    {
     "data": {
      "text/html": [
       "<div>\n",
       "<style scoped>\n",
       "    .dataframe tbody tr th:only-of-type {\n",
       "        vertical-align: middle;\n",
       "    }\n",
       "\n",
       "    .dataframe tbody tr th {\n",
       "        vertical-align: top;\n",
       "    }\n",
       "\n",
       "    .dataframe thead th {\n",
       "        text-align: right;\n",
       "    }\n",
       "</style>\n",
       "<table border=\"1\" class=\"dataframe\">\n",
       "  <thead>\n",
       "    <tr style=\"text-align: right;\">\n",
       "      <th></th>\n",
       "      <th>ID</th>\n",
       "      <th>Severity</th>\n",
       "      <th>Start_Time</th>\n",
       "      <th>End_Time</th>\n",
       "      <th>Start_Lat</th>\n",
       "      <th>Start_Lng</th>\n",
       "      <th>End_Lat</th>\n",
       "      <th>End_Lng</th>\n",
       "      <th>Distance(mi)</th>\n",
       "      <th>Description</th>\n",
       "      <th>...</th>\n",
       "      <th>Roundabout</th>\n",
       "      <th>Station</th>\n",
       "      <th>Stop</th>\n",
       "      <th>Traffic_Calming</th>\n",
       "      <th>Traffic_Signal</th>\n",
       "      <th>Turning_Loop</th>\n",
       "      <th>Sunrise_Sunset</th>\n",
       "      <th>Civil_Twilight</th>\n",
       "      <th>Nautical_Twilight</th>\n",
       "      <th>Astronomical_Twilight</th>\n",
       "    </tr>\n",
       "  </thead>\n",
       "  <tbody>\n",
       "    <tr>\n",
       "      <th>0</th>\n",
       "      <td>A-225056</td>\n",
       "      <td>2</td>\n",
       "      <td>08/09/2021 17:37</td>\n",
       "      <td>08/09/2021 20:05</td>\n",
       "      <td>33.916425</td>\n",
       "      <td>-118.269578</td>\n",
       "      <td>33.917889</td>\n",
       "      <td>-118.265243</td>\n",
       "      <td>0.268</td>\n",
       "      <td>Stationary traffic from S San Pedro St to E 12...</td>\n",
       "      <td>...</td>\n",
       "      <td>False</td>\n",
       "      <td>False</td>\n",
       "      <td>False</td>\n",
       "      <td>False</td>\n",
       "      <td>True</td>\n",
       "      <td>False</td>\n",
       "      <td>Day</td>\n",
       "      <td>Day</td>\n",
       "      <td>Day</td>\n",
       "      <td>Day</td>\n",
       "    </tr>\n",
       "    <tr>\n",
       "      <th>1</th>\n",
       "      <td>A-225279</td>\n",
       "      <td>2</td>\n",
       "      <td>09/12/2021 11:57</td>\n",
       "      <td>09/12/2021 13:22</td>\n",
       "      <td>34.112956</td>\n",
       "      <td>-118.482256</td>\n",
       "      <td>34.100885</td>\n",
       "      <td>-118.477917</td>\n",
       "      <td>0.870</td>\n",
       "      <td>Incident on I-405 SB near BEL AIR CREST RD Dri...</td>\n",
       "      <td>...</td>\n",
       "      <td>False</td>\n",
       "      <td>False</td>\n",
       "      <td>False</td>\n",
       "      <td>False</td>\n",
       "      <td>False</td>\n",
       "      <td>False</td>\n",
       "      <td>Day</td>\n",
       "      <td>Day</td>\n",
       "      <td>Day</td>\n",
       "      <td>Day</td>\n",
       "    </tr>\n",
       "    <tr>\n",
       "      <th>2</th>\n",
       "      <td>A-226122</td>\n",
       "      <td>2</td>\n",
       "      <td>19/10/2021 08:38</td>\n",
       "      <td>19/10/2021 10:50</td>\n",
       "      <td>34.003725</td>\n",
       "      <td>-118.286382</td>\n",
       "      <td>34.003764</td>\n",
       "      <td>-118.282105</td>\n",
       "      <td>0.245</td>\n",
       "      <td>Slow traffic from S Vermont Ave (W Vernon Ave)...</td>\n",
       "      <td>...</td>\n",
       "      <td>False</td>\n",
       "      <td>False</td>\n",
       "      <td>False</td>\n",
       "      <td>False</td>\n",
       "      <td>False</td>\n",
       "      <td>False</td>\n",
       "      <td>Day</td>\n",
       "      <td>Day</td>\n",
       "      <td>Day</td>\n",
       "      <td>Day</td>\n",
       "    </tr>\n",
       "    <tr>\n",
       "      <th>3</th>\n",
       "      <td>A-226314</td>\n",
       "      <td>2</td>\n",
       "      <td>05/11/2021 13:20</td>\n",
       "      <td>05/11/2021 13:48</td>\n",
       "      <td>33.928495</td>\n",
       "      <td>-118.289676</td>\n",
       "      <td>33.928275</td>\n",
       "      <td>-118.286206</td>\n",
       "      <td>0.200</td>\n",
       "      <td>Stationary traffic from exit [7B] to I-105 E d...</td>\n",
       "      <td>...</td>\n",
       "      <td>False</td>\n",
       "      <td>False</td>\n",
       "      <td>False</td>\n",
       "      <td>False</td>\n",
       "      <td>False</td>\n",
       "      <td>False</td>\n",
       "      <td>Day</td>\n",
       "      <td>Day</td>\n",
       "      <td>Day</td>\n",
       "      <td>Day</td>\n",
       "    </tr>\n",
       "    <tr>\n",
       "      <th>4</th>\n",
       "      <td>A-226718</td>\n",
       "      <td>2</td>\n",
       "      <td>03/11/2021 08:07</td>\n",
       "      <td>03/11/2021 08:30</td>\n",
       "      <td>34.045710</td>\n",
       "      <td>-118.205286</td>\n",
       "      <td>34.048458</td>\n",
       "      <td>-118.211488</td>\n",
       "      <td>0.403</td>\n",
       "      <td>Slow traffic from N Evergreen Ave (E Cesar E C...</td>\n",
       "      <td>...</td>\n",
       "      <td>False</td>\n",
       "      <td>False</td>\n",
       "      <td>False</td>\n",
       "      <td>False</td>\n",
       "      <td>True</td>\n",
       "      <td>False</td>\n",
       "      <td>Day</td>\n",
       "      <td>Day</td>\n",
       "      <td>Day</td>\n",
       "      <td>Day</td>\n",
       "    </tr>\n",
       "  </tbody>\n",
       "</table>\n",
       "<p>5 rows × 46 columns</p>\n",
       "</div>"
      ],
      "text/plain": [
       "         ID  Severity        Start_Time          End_Time  Start_Lat  \\\n",
       "0  A-225056         2  08/09/2021 17:37  08/09/2021 20:05  33.916425   \n",
       "1  A-225279         2  09/12/2021 11:57  09/12/2021 13:22  34.112956   \n",
       "2  A-226122         2  19/10/2021 08:38  19/10/2021 10:50  34.003725   \n",
       "3  A-226314         2  05/11/2021 13:20  05/11/2021 13:48  33.928495   \n",
       "4  A-226718         2  03/11/2021 08:07  03/11/2021 08:30  34.045710   \n",
       "\n",
       "    Start_Lng    End_Lat     End_Lng  Distance(mi)  \\\n",
       "0 -118.269578  33.917889 -118.265243         0.268   \n",
       "1 -118.482256  34.100885 -118.477917         0.870   \n",
       "2 -118.286382  34.003764 -118.282105         0.245   \n",
       "3 -118.289676  33.928275 -118.286206         0.200   \n",
       "4 -118.205286  34.048458 -118.211488         0.403   \n",
       "\n",
       "                                         Description  ...  Roundabout Station  \\\n",
       "0  Stationary traffic from S San Pedro St to E 12...  ...       False   False   \n",
       "1  Incident on I-405 SB near BEL AIR CREST RD Dri...  ...       False   False   \n",
       "2  Slow traffic from S Vermont Ave (W Vernon Ave)...  ...       False   False   \n",
       "3  Stationary traffic from exit [7B] to I-105 E d...  ...       False   False   \n",
       "4  Slow traffic from N Evergreen Ave (E Cesar E C...  ...       False   False   \n",
       "\n",
       "    Stop Traffic_Calming Traffic_Signal Turning_Loop Sunrise_Sunset  \\\n",
       "0  False           False           True        False            Day   \n",
       "1  False           False          False        False            Day   \n",
       "2  False           False          False        False            Day   \n",
       "3  False           False          False        False            Day   \n",
       "4  False           False           True        False            Day   \n",
       "\n",
       "  Civil_Twilight Nautical_Twilight Astronomical_Twilight  \n",
       "0            Day               Day                   Day  \n",
       "1            Day               Day                   Day  \n",
       "2            Day               Day                   Day  \n",
       "3            Day               Day                   Day  \n",
       "4            Day               Day                   Day  \n",
       "\n",
       "[5 rows x 46 columns]"
      ]
     },
     "execution_count": 3,
     "metadata": {},
     "output_type": "execute_result"
    }
   ],
   "source": [
    "df.head()"
   ]
  },
  {
   "cell_type": "code",
   "execution_count": 4,
   "id": "f51ddb2c-0204-4995-b5a9-ac38cbdfe75d",
   "metadata": {},
   "outputs": [
    {
     "name": "stdout",
     "output_type": "stream",
     "text": [
      "<class 'pandas.core.frame.DataFrame'>\n",
      "RangeIndex: 3224 entries, 0 to 3223\n",
      "Data columns (total 46 columns):\n",
      " #   Column                 Non-Null Count  Dtype  \n",
      "---  ------                 --------------  -----  \n",
      " 0   ID                     3224 non-null   object \n",
      " 1   Severity               3224 non-null   int64  \n",
      " 2   Start_Time             3224 non-null   object \n",
      " 3   End_Time               3224 non-null   object \n",
      " 4   Start_Lat              3224 non-null   float64\n",
      " 5   Start_Lng              3224 non-null   float64\n",
      " 6   End_Lat                3224 non-null   float64\n",
      " 7   End_Lng                3224 non-null   float64\n",
      " 8   Distance(mi)           3224 non-null   float64\n",
      " 9   Description            3224 non-null   object \n",
      " 10  Number                 1641 non-null   float64\n",
      " 11  Side                   3224 non-null   object \n",
      " 12  City                   3224 non-null   object \n",
      " 13  County                 3224 non-null   object \n",
      " 14  State                  3224 non-null   object \n",
      " 15  Zipcode                3224 non-null   object \n",
      " 16  Country                3224 non-null   object \n",
      " 17  Timezone               3224 non-null   object \n",
      " 18  Airport_Code           3224 non-null   object \n",
      " 19  Weather_Timestamp      3224 non-null   object \n",
      " 20  Temperature(F)         3185 non-null   float64\n",
      " 21  Wind_Chill(F)          3108 non-null   float64\n",
      " 22  Humidity(%)            3185 non-null   float64\n",
      " 23  Pressure(in)           3185 non-null   float64\n",
      " 24  Visibility(mi)         3224 non-null   float64\n",
      " 25  Wind_Direction         3108 non-null   object \n",
      " 26  Wind_Speed(mph)        3108 non-null   float64\n",
      " 27  Precipitation(in)      3224 non-null   float64\n",
      " 28  Weather_Condition      3223 non-null   object \n",
      " 29  Amenity                3224 non-null   bool   \n",
      " 30  Bump                   3224 non-null   bool   \n",
      " 31  Crossing               3224 non-null   bool   \n",
      " 32  Give_Way               3224 non-null   bool   \n",
      " 33  Junction               3224 non-null   bool   \n",
      " 34  No_Exit                3224 non-null   bool   \n",
      " 35  Railway                3224 non-null   bool   \n",
      " 36  Roundabout             3224 non-null   bool   \n",
      " 37  Station                3224 non-null   bool   \n",
      " 38  Stop                   3224 non-null   bool   \n",
      " 39  Traffic_Calming        3224 non-null   bool   \n",
      " 40  Traffic_Signal         3224 non-null   bool   \n",
      " 41  Turning_Loop           3224 non-null   bool   \n",
      " 42  Sunrise_Sunset         3224 non-null   object \n",
      " 43  Civil_Twilight         3224 non-null   object \n",
      " 44  Nautical_Twilight      3224 non-null   object \n",
      " 45  Astronomical_Twilight  3224 non-null   object \n",
      "dtypes: bool(13), float64(13), int64(1), object(19)\n",
      "memory usage: 872.2+ KB\n"
     ]
    }
   ],
   "source": [
    "df.info()"
   ]
  },
  {
   "cell_type": "code",
   "execution_count": 5,
   "id": "a4b71a99-c7ab-4844-aee9-886b28d789e5",
   "metadata": {},
   "outputs": [
    {
     "data": {
      "text/plain": [
       "False"
      ]
     },
     "execution_count": 5,
     "metadata": {},
     "output_type": "execute_result"
    }
   ],
   "source": [
    "df.duplicated().any()"
   ]
  },
  {
   "cell_type": "code",
   "execution_count": 6,
   "id": "164b53de-7edf-4c72-b5fa-149d58d17fd3",
   "metadata": {},
   "outputs": [
    {
     "data": {
      "text/html": [
       "<div>\n",
       "<style scoped>\n",
       "    .dataframe tbody tr th:only-of-type {\n",
       "        vertical-align: middle;\n",
       "    }\n",
       "\n",
       "    .dataframe tbody tr th {\n",
       "        vertical-align: top;\n",
       "    }\n",
       "\n",
       "    .dataframe thead th {\n",
       "        text-align: right;\n",
       "    }\n",
       "</style>\n",
       "<table border=\"1\" class=\"dataframe\">\n",
       "  <thead>\n",
       "    <tr style=\"text-align: right;\">\n",
       "      <th></th>\n",
       "      <th>ID</th>\n",
       "      <th>Severity</th>\n",
       "      <th>Start_Time</th>\n",
       "      <th>End_Time</th>\n",
       "      <th>Start_Lat</th>\n",
       "      <th>Start_Lng</th>\n",
       "      <th>End_Lat</th>\n",
       "      <th>End_Lng</th>\n",
       "      <th>Distance(mi)</th>\n",
       "      <th>Description</th>\n",
       "      <th>...</th>\n",
       "      <th>Roundabout</th>\n",
       "      <th>Station</th>\n",
       "      <th>Stop</th>\n",
       "      <th>Traffic_Calming</th>\n",
       "      <th>Traffic_Signal</th>\n",
       "      <th>Turning_Loop</th>\n",
       "      <th>Sunrise_Sunset</th>\n",
       "      <th>Civil_Twilight</th>\n",
       "      <th>Nautical_Twilight</th>\n",
       "      <th>Astronomical_Twilight</th>\n",
       "    </tr>\n",
       "  </thead>\n",
       "  <tbody>\n",
       "  </tbody>\n",
       "</table>\n",
       "<p>0 rows × 46 columns</p>\n",
       "</div>"
      ],
      "text/plain": [
       "Empty DataFrame\n",
       "Columns: [ID, Severity, Start_Time, End_Time, Start_Lat, Start_Lng, End_Lat, End_Lng, Distance(mi), Description, Number, Side, City, County, State, Zipcode, Country, Timezone, Airport_Code, Weather_Timestamp, Temperature(F), Wind_Chill(F), Humidity(%), Pressure(in), Visibility(mi), Wind_Direction, Wind_Speed(mph), Precipitation(in), Weather_Condition, Amenity, Bump, Crossing, Give_Way, Junction, No_Exit, Railway, Roundabout, Station, Stop, Traffic_Calming, Traffic_Signal, Turning_Loop, Sunrise_Sunset, Civil_Twilight, Nautical_Twilight, Astronomical_Twilight]\n",
       "Index: []\n",
       "\n",
       "[0 rows x 46 columns]"
      ]
     },
     "execution_count": 6,
     "metadata": {},
     "output_type": "execute_result"
    }
   ],
   "source": [
    "df[df.duplicated()]"
   ]
  },
  {
   "cell_type": "code",
   "execution_count": 7,
   "id": "4593da53-5b10-4668-827e-4dda167cdf9c",
   "metadata": {},
   "outputs": [],
   "source": [
    "# Clean and generate some data that maybe use"
   ]
  },
  {
   "cell_type": "code",
   "execution_count": 8,
   "id": "ae318189-9af4-4c69-92fa-d72a12e74d25",
   "metadata": {},
   "outputs": [],
   "source": [
    "df['clean_Start_Time'] = pd.to_datetime(df['Start_Time'], format = '%d/%m/%Y %H:%M', errors = 'coerce')"
   ]
  },
  {
   "cell_type": "code",
   "execution_count": 9,
   "id": "5142327b-9655-4739-a224-21abe48a8410",
   "metadata": {},
   "outputs": [],
   "source": [
    "df['clean_End_Time'] = pd.to_datetime(df['End_Time'], format = '%d/%m/%Y %H:%M', errors = 'coerce')"
   ]
  },
  {
   "cell_type": "code",
   "execution_count": 10,
   "id": "a8cb926d-b501-4888-a895-9db6397efa10",
   "metadata": {},
   "outputs": [],
   "source": [
    "df['Year'] = df['clean_Start_Time'].dt.year"
   ]
  },
  {
   "cell_type": "code",
   "execution_count": 11,
   "id": "c2897636-1aa0-450a-adcb-743619798755",
   "metadata": {},
   "outputs": [],
   "source": [
    "df['Month'] = df['clean_Start_Time'].dt.month"
   ]
  },
  {
   "cell_type": "code",
   "execution_count": 12,
   "id": "a61f7f74-81bd-47df-af7e-f7d6274e2a71",
   "metadata": {},
   "outputs": [],
   "source": [
    "df_aircondition = df[[\"Temperature(F)\", \"Pressure(in)\", \"Visibility(mi)\", \"Wind_Speed(mph)\", \"Humidity(%)\"]].dropna(how='any')"
   ]
  },
  {
   "cell_type": "markdown",
   "id": "86155ab0-f8a1-4585-b073-c275c9676ce4",
   "metadata": {},
   "source": [
    "### 1. How many car accidents happend in daytime in LA (2021)"
   ]
  },
  {
   "cell_type": "code",
   "execution_count": 13,
   "id": "70c68f52-e55f-4662-b0eb-5ee9f76dfe39",
   "metadata": {},
   "outputs": [
    {
     "data": {
      "text/plain": [
       "3224"
      ]
     },
     "execution_count": 13,
     "metadata": {},
     "output_type": "execute_result"
    }
   ],
   "source": [
    "len(df)"
   ]
  },
  {
   "cell_type": "code",
   "execution_count": 14,
   "id": "20896f5a-d31f-4181-970e-9c4d8f2e44ed",
   "metadata": {},
   "outputs": [
    {
     "data": {
      "text/plain": [
       "2    3222\n",
       "4       2\n",
       "Name: Severity, dtype: int64"
      ]
     },
     "execution_count": 14,
     "metadata": {},
     "output_type": "execute_result"
    }
   ],
   "source": [
    "df.Severity.value_counts() # different severity type (1-4)"
   ]
  },
  {
   "cell_type": "markdown",
   "id": "a25d4dbb-d767-48c7-8f76-408174742e0b",
   "metadata": {},
   "source": [
    "### 2. The markers near the location of the accident"
   ]
  },
  {
   "cell_type": "code",
   "execution_count": 15,
   "id": "fc3bd5c5-5eb2-4158-bfc4-5c1b67c55cd4",
   "metadata": {},
   "outputs": [
    {
     "data": {
      "text/plain": [
       "False    3106\n",
       "True      118\n",
       "Name: Stop, dtype: int64"
      ]
     },
     "execution_count": 15,
     "metadata": {},
     "output_type": "execute_result"
    }
   ],
   "source": [
    "df.Stop.value_counts() # whether a stop sign near where the accident happend"
   ]
  },
  {
   "cell_type": "code",
   "execution_count": 16,
   "id": "66a577b7-271d-4372-8f83-81704220f74d",
   "metadata": {},
   "outputs": [
    {
     "data": {
      "text/plain": [
       "R    2485\n",
       "L     739\n",
       "Name: Side, dtype: int64"
      ]
     },
     "execution_count": 16,
     "metadata": {},
     "output_type": "execute_result"
    }
   ],
   "source": [
    "df.Side.value_counts()"
   ]
  },
  {
   "cell_type": "code",
   "execution_count": 17,
   "id": "d3bed5f5-1238-4e79-a9fb-8157d0e7be7c",
   "metadata": {},
   "outputs": [
    {
     "data": {
      "text/plain": [
       "12    666\n",
       "11    496\n",
       "10    372\n",
       "9     360\n",
       "8     334\n",
       "7     328\n",
       "6     307\n",
       "4     146\n",
       "5     138\n",
       "3      73\n",
       "2       4\n",
       "Name: Month, dtype: int64"
      ]
     },
     "execution_count": 17,
     "metadata": {},
     "output_type": "execute_result"
    }
   ],
   "source": [
    "df.Month.value_counts() # where is the January Data?"
   ]
  },
  {
   "cell_type": "markdown",
   "id": "0d963547-19d5-4b11-b8b4-71fe49b0b3a3",
   "metadata": {},
   "source": [
    "### 3. Driving conditions when the car accident happend"
   ]
  },
  {
   "cell_type": "code",
   "execution_count": 18,
   "id": "59401310-56fc-42df-95e6-6f2e620cbcd1",
   "metadata": {},
   "outputs": [
    {
     "data": {
      "text/plain": [
       "0.77"
      ]
     },
     "execution_count": 18,
     "metadata": {},
     "output_type": "execute_result"
    }
   ],
   "source": [
    "round(df[\"Distance(mi)\"].mean(),2) # The avarage distance when the car accident happened"
   ]
  },
  {
   "cell_type": "code",
   "execution_count": 19,
   "id": "5b4f8a50-f247-413d-bae0-99b3c9f880bc",
   "metadata": {},
   "outputs": [
    {
     "data": {
      "text/plain": [
       "12.99"
      ]
     },
     "execution_count": 19,
     "metadata": {},
     "output_type": "execute_result"
    }
   ],
   "source": [
    "round(df[\"Distance(mi)\"].max(),2)"
   ]
  },
  {
   "cell_type": "code",
   "execution_count": 36,
   "id": "279dbd47-12ca-45e6-960d-e34c6f554d8f",
   "metadata": {},
   "outputs": [
    {
     "data": {
      "text/plain": [
       "Month\n",
       "2     1.03\n",
       "3     0.83\n",
       "4     0.59\n",
       "5     0.81\n",
       "6     0.99\n",
       "7     0.99\n",
       "8     0.78\n",
       "9     0.72\n",
       "10    0.58\n",
       "11    0.59\n",
       "12    0.84\n",
       "Name: Distance(mi), dtype: float64"
      ]
     },
     "execution_count": 36,
     "metadata": {},
     "output_type": "execute_result"
    }
   ],
   "source": [
    "round(df.groupby('Month')['Distance(mi)'].mean(),2) # the monthly average traffic distance caused by accidents"
   ]
  },
  {
   "cell_type": "code",
   "execution_count": 21,
   "id": "aa9252f3-139a-4bc3-a37e-2bac73456fc5",
   "metadata": {},
   "outputs": [
    {
     "data": {
      "text/html": [
       "<div>\n",
       "<style scoped>\n",
       "    .dataframe tbody tr th:only-of-type {\n",
       "        vertical-align: middle;\n",
       "    }\n",
       "\n",
       "    .dataframe tbody tr th {\n",
       "        vertical-align: top;\n",
       "    }\n",
       "\n",
       "    .dataframe thead th {\n",
       "        text-align: right;\n",
       "    }\n",
       "</style>\n",
       "<table border=\"1\" class=\"dataframe\">\n",
       "  <thead>\n",
       "    <tr style=\"text-align: right;\">\n",
       "      <th></th>\n",
       "      <th>index</th>\n",
       "      <th>Temperature(F)</th>\n",
       "      <th>Pressure(in)</th>\n",
       "      <th>Visibility(mi)</th>\n",
       "      <th>Wind_Speed(mph)</th>\n",
       "      <th>Humidity(%)</th>\n",
       "    </tr>\n",
       "  </thead>\n",
       "  <tbody>\n",
       "    <tr>\n",
       "      <th>0</th>\n",
       "      <td>min</td>\n",
       "      <td>42</td>\n",
       "      <td>29</td>\n",
       "      <td>0</td>\n",
       "      <td>0</td>\n",
       "      <td>6</td>\n",
       "    </tr>\n",
       "    <tr>\n",
       "      <th>1</th>\n",
       "      <td>max</td>\n",
       "      <td>92</td>\n",
       "      <td>30</td>\n",
       "      <td>10</td>\n",
       "      <td>26</td>\n",
       "      <td>100</td>\n",
       "    </tr>\n",
       "    <tr>\n",
       "      <th>2</th>\n",
       "      <td>mean</td>\n",
       "      <td>68</td>\n",
       "      <td>30</td>\n",
       "      <td>9</td>\n",
       "      <td>4</td>\n",
       "      <td>60</td>\n",
       "    </tr>\n",
       "  </tbody>\n",
       "</table>\n",
       "</div>"
      ],
      "text/plain": [
       "  index  Temperature(F)  Pressure(in)  Visibility(mi)  Wind_Speed(mph)  \\\n",
       "0   min              42            29               0                0   \n",
       "1   max              92            30              10               26   \n",
       "2  mean              68            30               9                4   \n",
       "\n",
       "   Humidity(%)  \n",
       "0            6  \n",
       "1          100  \n",
       "2           60  "
      ]
     },
     "execution_count": 21,
     "metadata": {},
     "output_type": "execute_result"
    }
   ],
   "source": [
    "df_aircondition.agg(['min', 'max', 'mean']).round().astype(int).reset_index() \n",
    "# 4 weather conditions which may affect traffic accidents"
   ]
  },
  {
   "cell_type": "code",
   "execution_count": 22,
   "id": "a211eaae-bb5d-4d07-8581-54868a191471",
   "metadata": {},
   "outputs": [
    {
     "data": {
      "text/plain": [
       "0             Fair\n",
       "1       Light Rain\n",
       "2             Fair\n",
       "3             Haze\n",
       "4              Fog\n",
       "           ...    \n",
       "3219          Fair\n",
       "3220        Cloudy\n",
       "3221          Fair\n",
       "3222          Fair\n",
       "3223          Fair\n",
       "Name: Weather_Condition, Length: 3223, dtype: object"
      ]
     },
     "execution_count": 22,
     "metadata": {},
     "output_type": "execute_result"
    }
   ],
   "source": [
    "df[\"Weather_Condition\"].dropna(how='any')"
   ]
  },
  {
   "cell_type": "code",
   "execution_count": 23,
   "id": "7fe77c4f-52d5-4319-bcd6-78ed607bb062",
   "metadata": {},
   "outputs": [
    {
     "data": {
      "text/plain": [
       "Fair             69.22\n",
       "Cloudy           10.02\n",
       "Haze              8.66\n",
       "Partly Cloudy     3.69\n",
       "Mostly Cloudy     2.79\n",
       "Light Rain        2.51\n",
       "Fog               2.36\n",
       "Heavy Rain        0.28\n",
       "Rain              0.22\n",
       "Heavy T-Storm     0.12\n",
       "Name: Weather_Condition, dtype: float64"
      ]
     },
     "execution_count": 23,
     "metadata": {},
     "output_type": "execute_result"
    }
   ],
   "source": [
    "pd.value_counts(df.Weather_Condition, normalize=True).head(10).round(4) * 100"
   ]
  },
  {
   "cell_type": "markdown",
   "id": "50b5158f-794d-4a0d-821e-844912a2044e",
   "metadata": {},
   "source": [
    "### 4. The duration wait time caused by car accidents"
   ]
  },
  {
   "cell_type": "code",
   "execution_count": 24,
   "id": "a80deebf-52a2-4267-8bbd-895a3f862de1",
   "metadata": {},
   "outputs": [],
   "source": [
    "df['duration_time_hour'] = (df['clean_End_Time'] - df['clean_Start_Time']).dt.seconds/60/60"
   ]
  },
  {
   "cell_type": "code",
   "execution_count": 25,
   "id": "1b79ee04-a93b-4aa8-ad08-11835c8ab111",
   "metadata": {},
   "outputs": [],
   "source": [
    "df['duration_time_hour'] = round(df['duration_time_hour']).astype(int)"
   ]
  },
  {
   "cell_type": "code",
   "execution_count": 26,
   "id": "856afb0e-4b49-4399-887b-ee07aa080aae",
   "metadata": {},
   "outputs": [
    {
     "data": {
      "text/plain": [
       "0       2\n",
       "1       1\n",
       "2       2\n",
       "3       0\n",
       "4       0\n",
       "       ..\n",
       "3219    2\n",
       "3220    0\n",
       "3221    2\n",
       "3222    5\n",
       "3223    2\n",
       "Name: duration_time_hour, Length: 3224, dtype: int32"
      ]
     },
     "execution_count": 26,
     "metadata": {},
     "output_type": "execute_result"
    }
   ],
   "source": [
    "df['duration_time_hour']"
   ]
  },
  {
   "cell_type": "code",
   "execution_count": 27,
   "id": "73febdec-16ae-49f7-9567-964ee6f7b35f",
   "metadata": {},
   "outputs": [
    {
     "data": {
      "text/plain": [
       "2.75"
      ]
     },
     "execution_count": 27,
     "metadata": {},
     "output_type": "execute_result"
    }
   ],
   "source": [
    "df.duration_time_hour.mean() # the average duration wait time because of car accidents"
   ]
  },
  {
   "cell_type": "code",
   "execution_count": 28,
   "id": "613a7063-ef21-414f-a83c-18d87b6d94ab",
   "metadata": {},
   "outputs": [
    {
     "data": {
      "text/plain": [
       "Month\n",
       "2     1.025500\n",
       "3     0.828726\n",
       "4     0.588514\n",
       "5     0.813964\n",
       "6     0.988336\n",
       "7     0.993351\n",
       "8     0.781452\n",
       "9     0.720981\n",
       "10    0.584427\n",
       "11    0.586685\n",
       "12    0.844369\n",
       "Name: Distance(mi), dtype: float64"
      ]
     },
     "execution_count": 28,
     "metadata": {},
     "output_type": "execute_result"
    }
   ],
   "source": [
    "df.groupby('Month')['Distance(mi)'].mean() # the monthly average traffic distance caused by accidents"
   ]
  },
  {
   "cell_type": "markdown",
   "id": "ac1e3a23-d346-46a6-94ca-1204093f203d",
   "metadata": {},
   "source": [
    "### 5. Focus on I-10 W"
   ]
  },
  {
   "cell_type": "code",
   "execution_count": 29,
   "id": "fe4ed7c8-7c86-4d98-84f9-a5099cfa985d",
   "metadata": {},
   "outputs": [
    {
     "data": {
      "text/plain": [
       "0       Stationary traffic from S San Pedro St to E 12...\n",
       "1       Incident on I-405 SB near BEL AIR CREST RD Dri...\n",
       "2       Slow traffic from S Vermont Ave (W Vernon Ave)...\n",
       "3       Stationary traffic from exit [7B] to I-105 E d...\n",
       "4       Slow traffic from N Evergreen Ave (E Cesar E C...\n",
       "                              ...                        \n",
       "3219    Slow traffic from S Wilton Pl to W 111th St du...\n",
       "3220    Slow traffic from Crenshaw Blvd (Stocker St) t...\n",
       "3221    Accident on La Brea Ave (I-10) from Crenshaw B...\n",
       "3222    Stationary traffic from Bergreen Pl to I-405 N...\n",
       "3223    Incident on WESTCHESTER PL near W 12TH ST Driv...\n",
       "Name: Description, Length: 3224, dtype: object"
      ]
     },
     "execution_count": 29,
     "metadata": {},
     "output_type": "execute_result"
    }
   ],
   "source": [
    "df['Description'].astype(str)"
   ]
  },
  {
   "cell_type": "code",
   "execution_count": 30,
   "id": "b72b073d-65e4-4762-a7d3-a1aed3bad57c",
   "metadata": {},
   "outputs": [],
   "source": [
    "i10W_counts = df[df['Description'].str.contains('I-10 W')] # filter dataframe to only contain 'I-10 W' in Description column"
   ]
  },
  {
   "cell_type": "code",
   "execution_count": 31,
   "id": "5b07b421-1c31-4ff9-9404-d63162f7fa63",
   "metadata": {},
   "outputs": [
    {
     "data": {
      "text/html": [
       "<div>\n",
       "<style scoped>\n",
       "    .dataframe tbody tr th:only-of-type {\n",
       "        vertical-align: middle;\n",
       "    }\n",
       "\n",
       "    .dataframe tbody tr th {\n",
       "        vertical-align: top;\n",
       "    }\n",
       "\n",
       "    .dataframe thead th {\n",
       "        text-align: right;\n",
       "    }\n",
       "</style>\n",
       "<table border=\"1\" class=\"dataframe\">\n",
       "  <thead>\n",
       "    <tr style=\"text-align: right;\">\n",
       "      <th></th>\n",
       "      <th>ID</th>\n",
       "      <th>Severity</th>\n",
       "      <th>Start_Time</th>\n",
       "      <th>End_Time</th>\n",
       "      <th>Start_Lat</th>\n",
       "      <th>Start_Lng</th>\n",
       "      <th>End_Lat</th>\n",
       "      <th>End_Lng</th>\n",
       "      <th>Distance(mi)</th>\n",
       "      <th>Description</th>\n",
       "      <th>...</th>\n",
       "      <th>Turning_Loop</th>\n",
       "      <th>Sunrise_Sunset</th>\n",
       "      <th>Civil_Twilight</th>\n",
       "      <th>Nautical_Twilight</th>\n",
       "      <th>Astronomical_Twilight</th>\n",
       "      <th>clean_Start_Time</th>\n",
       "      <th>clean_End_Time</th>\n",
       "      <th>Year</th>\n",
       "      <th>Month</th>\n",
       "      <th>duration_time_hour</th>\n",
       "    </tr>\n",
       "  </thead>\n",
       "  <tbody>\n",
       "    <tr>\n",
       "      <th>18</th>\n",
       "      <td>A-244651</td>\n",
       "      <td>2</td>\n",
       "      <td>13/10/2021 07:15</td>\n",
       "      <td>13/10/2021 10:50</td>\n",
       "      <td>34.055571</td>\n",
       "      <td>-118.198100</td>\n",
       "      <td>34.055190</td>\n",
       "      <td>-118.211842</td>\n",
       "      <td>0.787</td>\n",
       "      <td>Stationary traffic from exit [19C] to I-10 W d...</td>\n",
       "      <td>...</td>\n",
       "      <td>False</td>\n",
       "      <td>Day</td>\n",
       "      <td>Day</td>\n",
       "      <td>Day</td>\n",
       "      <td>Day</td>\n",
       "      <td>2021-10-13 07:15:00</td>\n",
       "      <td>2021-10-13 10:50:00</td>\n",
       "      <td>2021</td>\n",
       "      <td>10</td>\n",
       "      <td>4</td>\n",
       "    </tr>\n",
       "    <tr>\n",
       "      <th>24</th>\n",
       "      <td>A-252155</td>\n",
       "      <td>2</td>\n",
       "      <td>23/10/2021 14:38</td>\n",
       "      <td>23/10/2021 16:52</td>\n",
       "      <td>34.059230</td>\n",
       "      <td>-118.184949</td>\n",
       "      <td>34.059368</td>\n",
       "      <td>-118.185151</td>\n",
       "      <td>0.015</td>\n",
       "      <td>Accident from I-10 W to Medford St.</td>\n",
       "      <td>...</td>\n",
       "      <td>False</td>\n",
       "      <td>Day</td>\n",
       "      <td>Day</td>\n",
       "      <td>Day</td>\n",
       "      <td>Day</td>\n",
       "      <td>2021-10-23 14:38:00</td>\n",
       "      <td>2021-10-23 16:52:00</td>\n",
       "      <td>2021</td>\n",
       "      <td>10</td>\n",
       "      <td>2</td>\n",
       "    </tr>\n",
       "    <tr>\n",
       "      <th>38</th>\n",
       "      <td>A-256229</td>\n",
       "      <td>2</td>\n",
       "      <td>30/10/2021 13:12</td>\n",
       "      <td>30/10/2021 17:02</td>\n",
       "      <td>34.034370</td>\n",
       "      <td>-118.350153</td>\n",
       "      <td>34.032301</td>\n",
       "      <td>-118.388671</td>\n",
       "      <td>2.210</td>\n",
       "      <td>Slow traffic on I-10 W - Santa Monica Fwy W fr...</td>\n",
       "      <td>...</td>\n",
       "      <td>False</td>\n",
       "      <td>Day</td>\n",
       "      <td>Day</td>\n",
       "      <td>Day</td>\n",
       "      <td>Day</td>\n",
       "      <td>2021-10-30 13:12:00</td>\n",
       "      <td>2021-10-30 17:02:00</td>\n",
       "      <td>2021</td>\n",
       "      <td>10</td>\n",
       "      <td>4</td>\n",
       "    </tr>\n",
       "    <tr>\n",
       "      <th>41</th>\n",
       "      <td>A-258324</td>\n",
       "      <td>2</td>\n",
       "      <td>25/04/2021 17:40</td>\n",
       "      <td>25/04/2021 19:28</td>\n",
       "      <td>34.032376</td>\n",
       "      <td>-118.222395</td>\n",
       "      <td>34.023922</td>\n",
       "      <td>-118.244706</td>\n",
       "      <td>1.405</td>\n",
       "      <td>Incident on I-10 WB near S ALAMEDA ST Drive wi...</td>\n",
       "      <td>...</td>\n",
       "      <td>False</td>\n",
       "      <td>Day</td>\n",
       "      <td>Day</td>\n",
       "      <td>Day</td>\n",
       "      <td>Day</td>\n",
       "      <td>2021-04-25 17:40:00</td>\n",
       "      <td>2021-04-25 19:28:00</td>\n",
       "      <td>2021</td>\n",
       "      <td>4</td>\n",
       "      <td>2</td>\n",
       "    </tr>\n",
       "    <tr>\n",
       "      <th>42</th>\n",
       "      <td>A-258412</td>\n",
       "      <td>2</td>\n",
       "      <td>02/07/2021 11:33</td>\n",
       "      <td>02/07/2021 14:27</td>\n",
       "      <td>34.055504</td>\n",
       "      <td>-118.198421</td>\n",
       "      <td>34.054847</td>\n",
       "      <td>-118.210943</td>\n",
       "      <td>0.718</td>\n",
       "      <td>Stationary traffic from exit [19C] to I-10 W d...</td>\n",
       "      <td>...</td>\n",
       "      <td>False</td>\n",
       "      <td>Day</td>\n",
       "      <td>Day</td>\n",
       "      <td>Day</td>\n",
       "      <td>Day</td>\n",
       "      <td>2021-07-02 11:33:00</td>\n",
       "      <td>2021-07-02 14:27:00</td>\n",
       "      <td>2021</td>\n",
       "      <td>7</td>\n",
       "      <td>3</td>\n",
       "    </tr>\n",
       "  </tbody>\n",
       "</table>\n",
       "<p>5 rows × 51 columns</p>\n",
       "</div>"
      ],
      "text/plain": [
       "          ID  Severity        Start_Time          End_Time  Start_Lat  \\\n",
       "18  A-244651         2  13/10/2021 07:15  13/10/2021 10:50  34.055571   \n",
       "24  A-252155         2  23/10/2021 14:38  23/10/2021 16:52  34.059230   \n",
       "38  A-256229         2  30/10/2021 13:12  30/10/2021 17:02  34.034370   \n",
       "41  A-258324         2  25/04/2021 17:40  25/04/2021 19:28  34.032376   \n",
       "42  A-258412         2  02/07/2021 11:33  02/07/2021 14:27  34.055504   \n",
       "\n",
       "     Start_Lng    End_Lat     End_Lng  Distance(mi)  \\\n",
       "18 -118.198100  34.055190 -118.211842         0.787   \n",
       "24 -118.184949  34.059368 -118.185151         0.015   \n",
       "38 -118.350153  34.032301 -118.388671         2.210   \n",
       "41 -118.222395  34.023922 -118.244706         1.405   \n",
       "42 -118.198421  34.054847 -118.210943         0.718   \n",
       "\n",
       "                                          Description  ...  Turning_Loop  \\\n",
       "18  Stationary traffic from exit [19C] to I-10 W d...  ...         False   \n",
       "24                Accident from I-10 W to Medford St.  ...         False   \n",
       "38  Slow traffic on I-10 W - Santa Monica Fwy W fr...  ...         False   \n",
       "41  Incident on I-10 WB near S ALAMEDA ST Drive wi...  ...         False   \n",
       "42  Stationary traffic from exit [19C] to I-10 W d...  ...         False   \n",
       "\n",
       "   Sunrise_Sunset Civil_Twilight Nautical_Twilight Astronomical_Twilight  \\\n",
       "18            Day            Day               Day                   Day   \n",
       "24            Day            Day               Day                   Day   \n",
       "38            Day            Day               Day                   Day   \n",
       "41            Day            Day               Day                   Day   \n",
       "42            Day            Day               Day                   Day   \n",
       "\n",
       "      clean_Start_Time      clean_End_Time  Year Month duration_time_hour  \n",
       "18 2021-10-13 07:15:00 2021-10-13 10:50:00  2021    10                  4  \n",
       "24 2021-10-23 14:38:00 2021-10-23 16:52:00  2021    10                  2  \n",
       "38 2021-10-30 13:12:00 2021-10-30 17:02:00  2021    10                  4  \n",
       "41 2021-04-25 17:40:00 2021-04-25 19:28:00  2021     4                  2  \n",
       "42 2021-07-02 11:33:00 2021-07-02 14:27:00  2021     7                  3  \n",
       "\n",
       "[5 rows x 51 columns]"
      ]
     },
     "execution_count": 31,
     "metadata": {},
     "output_type": "execute_result"
    }
   ],
   "source": [
    "i10W_counts.head()"
   ]
  },
  {
   "cell_type": "code",
   "execution_count": 32,
   "id": "c68fe10a-d7b5-4315-a4f1-8df748944cb3",
   "metadata": {},
   "outputs": [
    {
     "data": {
      "text/plain": [
       "264"
      ]
     },
     "execution_count": 32,
     "metadata": {},
     "output_type": "execute_result"
    }
   ],
   "source": [
    "len (i10W_counts)"
   ]
  },
  {
   "cell_type": "code",
   "execution_count": 33,
   "id": "5ed4ec4c-03cd-44c3-8d58-50daec16ca81",
   "metadata": {},
   "outputs": [
    {
     "data": {
      "text/plain": [
       "Month\n",
       "3     1.293857\n",
       "4     0.878538\n",
       "5     1.444667\n",
       "6     1.716323\n",
       "7     1.762930\n",
       "8     1.158593\n",
       "9     0.997857\n",
       "10    0.739931\n",
       "11    0.619977\n",
       "12    1.673610\n",
       "Name: Distance(mi), dtype: float64"
      ]
     },
     "execution_count": 33,
     "metadata": {},
     "output_type": "execute_result"
    }
   ],
   "source": [
    "i10W_counts.groupby('Month')['Distance(mi)'].mean() # the monthly average traffic distance caused by accidents on I-10 W"
   ]
  },
  {
   "cell_type": "code",
   "execution_count": null,
   "id": "2a88085b-66c3-40bc-9b99-6f44b417eeca",
   "metadata": {},
   "outputs": [],
   "source": []
  }
 ],
 "metadata": {
  "kernelspec": {
   "display_name": "Python 3 (ipykernel)",
   "language": "python",
   "name": "python3"
  },
  "language_info": {
   "codemirror_mode": {
    "name": "ipython",
    "version": 3
   },
   "file_extension": ".py",
   "mimetype": "text/x-python",
   "name": "python",
   "nbconvert_exporter": "python",
   "pygments_lexer": "ipython3",
   "version": "3.9.7"
  }
 },
 "nbformat": 4,
 "nbformat_minor": 5
}
